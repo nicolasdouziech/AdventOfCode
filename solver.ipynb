{
 "cells": [
  {
   "cell_type": "code",
   "execution_count": null,
   "id": "e3d95b4f",
   "metadata": {},
   "outputs": [],
   "source": [
    "import pandas as pd\n",
    "import numpy as np\n",
    "from matplotlib import pyplot as plt\n",
    "from IPython.display import display\n",
    "from functools import reduce\n",
    "import heapq"
   ]
  },
  {
   "cell_type": "markdown",
   "id": "94eb8d99",
   "metadata": {},
   "source": [
    "# J01"
   ]
  },
  {
   "cell_type": "code",
   "execution_count": null,
   "id": "2174ba6a",
   "metadata": {},
   "outputs": [],
   "source": [
    "df = pd.read_csv('J01.csv', sep=' ', index_col=None, header=None, names=['depth'])"
   ]
  },
  {
   "cell_type": "markdown",
   "id": "02b5847f",
   "metadata": {},
   "source": [
    "Part 1 : Nombre de fois où la profondeur augmente strictement"
   ]
  },
  {
   "cell_type": "code",
   "execution_count": null,
   "id": "aaf82695",
   "metadata": {},
   "outputs": [],
   "source": [
    "np.sum(df.depth.diff()>0)"
   ]
  },
  {
   "cell_type": "code",
   "execution_count": null,
   "id": "8e29397e",
   "metadata": {},
   "outputs": [],
   "source": [
    "df['depth3'] = df['depth'] + df['depth'].shift() + df['depth'].shift(2)"
   ]
  },
  {
   "cell_type": "markdown",
   "id": "369ed524",
   "metadata": {},
   "source": [
    "Part 2 : Nombre de fois où la profondeur augmente strictement sur une fenêtre de 3"
   ]
  },
  {
   "cell_type": "code",
   "execution_count": null,
   "id": "69dee9b3",
   "metadata": {},
   "outputs": [],
   "source": [
    "np.sum(df.depth3.diff()>0)"
   ]
  },
  {
   "cell_type": "markdown",
   "id": "db07d8ae",
   "metadata": {},
   "source": [
    "# J02"
   ]
  },
  {
   "cell_type": "code",
   "execution_count": null,
   "id": "6a8bf0c6",
   "metadata": {},
   "outputs": [],
   "source": [
    "df = pd.read_csv('J02.csv', sep=' ', index_col=None, header=None, names=['direction', 'unit'])"
   ]
  },
  {
   "cell_type": "code",
   "execution_count": null,
   "id": "5c296d82",
   "metadata": {},
   "outputs": [],
   "source": [
    "df_pivot = df.pivot_table(index='direction', aggfunc='sum')"
   ]
  },
  {
   "cell_type": "markdown",
   "id": "a4f7ff61",
   "metadata": {},
   "source": [
    "Part 1 : final horizontal position times final depth"
   ]
  },
  {
   "cell_type": "code",
   "execution_count": null,
   "id": "997d9a9e",
   "metadata": {},
   "outputs": [],
   "source": [
    "df_pivot.loc['forward', 'unit'] * (df_pivot.loc['down', 'unit'] - df_pivot.loc['up', 'unit'])"
   ]
  },
  {
   "cell_type": "markdown",
   "id": "0f32fa09",
   "metadata": {},
   "source": [
    "Part 2 : Other type of computation"
   ]
  },
  {
   "cell_type": "code",
   "execution_count": null,
   "id": "0a9c02d1",
   "metadata": {},
   "outputs": [],
   "source": [
    "df['horizontal_move'] = df.apply(lambda row: row['unit'] if row['direction'] == 'forward' else 0, axis=1)\n",
    "df['aim_move'] = df.apply(lambda row: row['unit'] if row['direction'] == 'down' else (-row['unit'] if row['direction'] == 'up' else 0), axis=1)"
   ]
  },
  {
   "cell_type": "code",
   "execution_count": null,
   "id": "f9d1579c",
   "metadata": {},
   "outputs": [],
   "source": [
    "df['horizontal_position'] = df['horizontal_move'].cumsum()\n",
    "df['aim'] = df['aim_move'].cumsum()"
   ]
  },
  {
   "cell_type": "code",
   "execution_count": null,
   "id": "e36e561a",
   "metadata": {},
   "outputs": [],
   "source": [
    "df['depth_increase'] = df.apply(lambda row: row['aim'] * row['unit'] if row['direction'] == 'forward' else 0, axis=1)"
   ]
  },
  {
   "cell_type": "code",
   "execution_count": null,
   "id": "fc5674d7",
   "metadata": {},
   "outputs": [],
   "source": [
    "df['depth'] = df['depth_increase'].cumsum()"
   ]
  },
  {
   "cell_type": "code",
   "execution_count": null,
   "id": "64c1c717",
   "metadata": {},
   "outputs": [],
   "source": [
    "df"
   ]
  },
  {
   "cell_type": "code",
   "execution_count": null,
   "id": "69059099",
   "metadata": {},
   "outputs": [],
   "source": [
    "df.iloc[-1]['horizontal_position'] * df.iloc[-1]['depth']"
   ]
  },
  {
   "cell_type": "markdown",
   "id": "c8ee58da",
   "metadata": {},
   "source": [
    "# J03"
   ]
  },
  {
   "cell_type": "code",
   "execution_count": null,
   "id": "02550606",
   "metadata": {},
   "outputs": [],
   "source": [
    "df = pd.read_csv('J03.csv', sep=' ', index_col=None, header=None, names=['code'], dtype=str)\n",
    "df['code'] = df['code'].map(lambda r : [int(x) for x in r])\n",
    "df = pd.DataFrame(df['code'].to_list(), columns=[2**i for i in range(11,-1,-1)])"
   ]
  },
  {
   "cell_type": "markdown",
   "id": "16a82597",
   "metadata": {},
   "source": [
    "Part 1 : Compute Gamma (most common), Epsilon (least common)"
   ]
  },
  {
   "cell_type": "code",
   "execution_count": null,
   "id": "2fce2bfe",
   "metadata": {},
   "outputs": [],
   "source": [
    "Gamma_s = (df.mean(axis=0)>0.5)\n",
    "Epsilon_s = (df.mean(axis=0)<0.5)"
   ]
  },
  {
   "cell_type": "code",
   "execution_count": null,
   "id": "a50f6ef9",
   "metadata": {},
   "outputs": [],
   "source": [
    "Gamma = np.sum(np.dot(Gamma_s.index, Gamma_s.values))\n",
    "Epsilon = np.sum(np.dot(Epsilon_s.index, Epsilon_s.values))"
   ]
  },
  {
   "cell_type": "code",
   "execution_count": null,
   "id": "bad0631a",
   "metadata": {},
   "outputs": [],
   "source": [
    "Gamma * Epsilon"
   ]
  },
  {
   "cell_type": "markdown",
   "id": "91cadc32",
   "metadata": {},
   "source": [
    "Part 2 : Oxygen x CO2"
   ]
  },
  {
   "cell_type": "code",
   "execution_count": null,
   "id": "df291036",
   "metadata": {},
   "outputs": [],
   "source": [
    "df_Oxygen = df.copy()\n",
    "df_CO2 = df.copy()"
   ]
  },
  {
   "cell_type": "code",
   "execution_count": null,
   "id": "ee263a15",
   "metadata": {},
   "outputs": [],
   "source": [
    "col = 2048\n",
    "while (df_Oxygen.shape[0] > 1):\n",
    "    bit_max = 1 if df_Oxygen[col].mean() >= 0.5 else 0\n",
    "    df_Oxygen = df_Oxygen[df_Oxygen[col] == bit_max]\n",
    "    col = col/2"
   ]
  },
  {
   "cell_type": "code",
   "execution_count": null,
   "id": "c542b87b",
   "metadata": {},
   "outputs": [],
   "source": [
    "Oxygen = np.sum(np.dot(df_Oxygen.columns, df_Oxygen.values.T))"
   ]
  },
  {
   "cell_type": "code",
   "execution_count": null,
   "id": "91fb861c",
   "metadata": {},
   "outputs": [],
   "source": [
    "col = 2048\n",
    "while (df_CO2.shape[0] > 1):\n",
    "    bit_min = 0 if df_CO2[col].mean() >= 0.5 else 1\n",
    "    df_CO2 = df_CO2[df_CO2[col] == bit_min]\n",
    "    col = col/2"
   ]
  },
  {
   "cell_type": "code",
   "execution_count": null,
   "id": "8809ecee",
   "metadata": {},
   "outputs": [],
   "source": [
    "CO2 = np.sum(np.dot(df_CO2.columns, df_CO2.values.T))"
   ]
  },
  {
   "cell_type": "code",
   "execution_count": null,
   "id": "45a46e5d",
   "metadata": {},
   "outputs": [],
   "source": [
    "Oxygen * CO2"
   ]
  },
  {
   "cell_type": "markdown",
   "id": "df04f1b9",
   "metadata": {},
   "source": [
    "# J04"
   ]
  },
  {
   "cell_type": "code",
   "execution_count": null,
   "id": "96ed6871",
   "metadata": {},
   "outputs": [],
   "source": [
    "df = pd.read_csv('J04.csv', sep=';', index_col=None, header=None, names=['code'], dtype=str)\n",
    "tirage = [int(x) for x in list(df.iloc[0].values)[0].split(',')]\n",
    "df = df.drop(index=0).reset_index(drop=True)\n",
    "df['code'] = df['code'].map(lambda row: [int(x) for x in row.split(' ') if len(x)>0])\n",
    "df = pd.DataFrame(df['code'].to_list(), columns=['c' + str(i) for i in range(5)])"
   ]
  },
  {
   "cell_type": "markdown",
   "id": "5e58c824",
   "metadata": {},
   "source": [
    "Part 1 : Find the first winning board and its score"
   ]
  },
  {
   "cell_type": "code",
   "execution_count": null,
   "id": "73e9e885",
   "metadata": {},
   "outputs": [],
   "source": [
    "df2 = df.copy()"
   ]
  },
  {
   "cell_type": "code",
   "execution_count": null,
   "id": "0343feac",
   "metadata": {},
   "outputs": [],
   "source": [
    "win_board = None\n",
    "win_x = None\n",
    "for x in tirage:\n",
    "    df2[df2 == x] = None\n",
    "    if np.any(np.sum(df2.isna(), axis=1) == 5):\n",
    "        win_board = np.where(np.sum(df2.isna(), axis=1) == 5)[0][0] // 5\n",
    "        win_x = x\n",
    "        break\n",
    "    if np.any(df2.pivot_table(index=df2.index // 5, aggfunc=(lambda row : np.sum(row.isna()) == 5))):\n",
    "        win_board = np.where(df2.pivot_table(index=df2.index // 5, aggfunc=(lambda row : np.sum(row.isna()) == 5)))[0][0]\n",
    "        win_x = x\n",
    "        break"
   ]
  },
  {
   "cell_type": "code",
   "execution_count": null,
   "id": "38d14c53",
   "metadata": {},
   "outputs": [],
   "source": [
    "np.sum(df2.iloc[(5*win_board):(5*win_board+5)]).sum() * win_x"
   ]
  },
  {
   "cell_type": "markdown",
   "id": "c86e7849",
   "metadata": {},
   "source": [
    "Part 2 : Find the last winning board"
   ]
  },
  {
   "cell_type": "code",
   "execution_count": null,
   "id": "eaf0ecf8",
   "metadata": {},
   "outputs": [],
   "source": [
    "df2 = df.copy()"
   ]
  },
  {
   "cell_type": "code",
   "execution_count": null,
   "id": "9dbd674f",
   "metadata": {},
   "outputs": [],
   "source": [
    "win_board_remaining = list(range(100))\n",
    "win_x = None\n",
    "for x in tirage:\n",
    "    df2[df2 == x] = None\n",
    "    lines = (np.sum(df2.isna(), axis=1) == 5)\n",
    "    if np.any(lines):\n",
    "        for where_x in lines[lines].index:\n",
    "            win_board = where_x // 5\n",
    "            win_board_remaining.remove(win_board)\n",
    "            df2 = df2.drop(index=range((5*win_board),(5*win_board+5)))\n",
    "    df_pivot = df2.pivot_table(index=df2.index // 5, aggfunc=(lambda row : np.sum(row.isna()) == 5))\n",
    "    if np.any(df_pivot):\n",
    "        for win_board in df_pivot[df_pivot.any(axis=1)].index:\n",
    "            win_board_remaining.remove(win_board)\n",
    "            df2 = df2.drop(index=range((5*win_board),(5*win_board+5)))\n",
    "    if len(win_board_remaining) == 1:\n",
    "        break\n"
   ]
  },
  {
   "cell_type": "code",
   "execution_count": null,
   "id": "4da02bd1",
   "metadata": {},
   "outputs": [],
   "source": [
    "for x in tirage:\n",
    "    df2[df2 == x] = None\n",
    "    lines = (np.sum(df2.isna(), axis=1) == 5)\n",
    "    if np.any(lines):\n",
    "        win_x = x\n",
    "        break\n",
    "    df_pivot = df2.pivot_table(index=df2.index // 5, aggfunc=(lambda row : np.sum(row.isna()) == 5))\n",
    "    if np.any(df_pivot):\n",
    "        win_x = x\n",
    "        break"
   ]
  },
  {
   "cell_type": "code",
   "execution_count": null,
   "id": "3c2bb680",
   "metadata": {},
   "outputs": [],
   "source": [
    "df2.sum().sum()*win_x"
   ]
  },
  {
   "cell_type": "markdown",
   "id": "6a23b59f",
   "metadata": {},
   "source": [
    "# J05"
   ]
  },
  {
   "cell_type": "code",
   "execution_count": null,
   "id": "5e014ccc",
   "metadata": {},
   "outputs": [],
   "source": [
    "df = pd.read_csv('J05.csv', sep=' -> ', index_col=None, header=None, names=['in', 'out'], dtype=str, engine='python')\n",
    "df['in'] = df['in'].map(lambda row: [int(x) for x in row.split(',') if len(x)>0])\n",
    "df['out'] = df['out'].map(lambda row: [int(x) for x in row.split(',') if len(x)>0])\n",
    "df = pd.concat([pd.DataFrame(df['in'].to_list(), columns=['x1','y1']), \n",
    "                pd.DataFrame(df['out'].to_list(), columns=['x2','y2'])],\n",
    "               axis=1)"
   ]
  },
  {
   "cell_type": "markdown",
   "id": "e5de2069",
   "metadata": {},
   "source": [
    "Part 1"
   ]
  },
  {
   "cell_type": "code",
   "execution_count": null,
   "id": "51140ff2",
   "metadata": {},
   "outputs": [],
   "source": [
    "# df.max() --> 989\n",
    "matrix = np.zeros([1000, 1000])\n",
    "for _, row in df.iterrows():\n",
    "    if row.x1 == row.x2:\n",
    "        for y in range(min(row.y1, row.y2), max(row.y1, row.y2)+1):\n",
    "            matrix[row.x1, y] = matrix[row.x1, y] + 1\n",
    "    elif row.y1 == row.y2:\n",
    "        for x in range(min(row.x1, row.x2), max(row.x1, row.x2)+1):\n",
    "            matrix[x, row.y1] = matrix[x, row.y1] + 1"
   ]
  },
  {
   "cell_type": "code",
   "execution_count": null,
   "id": "ffa1ecdf",
   "metadata": {},
   "outputs": [],
   "source": [
    "np.sum(matrix > 1)"
   ]
  },
  {
   "cell_type": "markdown",
   "id": "62d680be",
   "metadata": {},
   "source": [
    "Part 2"
   ]
  },
  {
   "cell_type": "code",
   "execution_count": null,
   "id": "b0d2c750",
   "metadata": {},
   "outputs": [],
   "source": [
    "# df.max() --> 989\n",
    "matrix = np.zeros([1000, 1000])\n",
    "for _, row in df.iterrows():\n",
    "    if row.x1 == row.x2:\n",
    "        for y in range(min(row.y1, row.y2), max(row.y1, row.y2)+1):\n",
    "            matrix[row.x1, y] = matrix[row.x1, y] + 1\n",
    "    elif row.y1 == row.y2:\n",
    "        for x in range(min(row.x1, row.x2), max(row.x1, row.x2)+1):\n",
    "            matrix[x, row.y1] = matrix[x, row.y1] + 1\n",
    "    else:\n",
    "        pente = int((row.y2 - row.y1) / (row.x2 - row.x1))\n",
    "        if row.x1 < row.x2:\n",
    "            xmin = row.x1\n",
    "            xmax = row.x2\n",
    "            ymin = row.y1\n",
    "        else:\n",
    "            xmin = row.x2\n",
    "            xmax = row.x1\n",
    "            ymin = row.y2\n",
    "        for x in range(xmin, xmax+1):\n",
    "            matrix[x, ymin + pente * (x - xmin)] = matrix[x, ymin + pente * (x - xmin)] + 1"
   ]
  },
  {
   "cell_type": "code",
   "execution_count": null,
   "id": "4bd3c502",
   "metadata": {},
   "outputs": [],
   "source": [
    "np.sum(matrix > 1)"
   ]
  },
  {
   "cell_type": "markdown",
   "id": "b17c84cf",
   "metadata": {},
   "source": [
    "# J06"
   ]
  },
  {
   "cell_type": "code",
   "execution_count": null,
   "id": "4bfbbbe9",
   "metadata": {},
   "outputs": [],
   "source": [
    "df = pd.read_csv('J06.csv', sep=',', index_col=None, header=None).T\n",
    "df['n'] = df[0]"
   ]
  },
  {
   "cell_type": "code",
   "execution_count": null,
   "id": "792f9ad7",
   "metadata": {},
   "outputs": [],
   "source": [
    "df_pivot = df.pivot_table(index='n', aggfunc='count')\n",
    "df_pivot.loc[0,0] = 0\n",
    "df_pivot.loc[6,0] = 0\n",
    "df_pivot.loc[7,0] = 0\n",
    "df_pivot = df_pivot.sort_index()"
   ]
  },
  {
   "cell_type": "markdown",
   "id": "b7e5f21d",
   "metadata": {},
   "source": [
    "Part 1 : n=80 / Part 2 : n=256"
   ]
  },
  {
   "cell_type": "code",
   "execution_count": null,
   "id": "dd0e11b1",
   "metadata": {},
   "outputs": [],
   "source": [
    "n = 256\n",
    "for d in range(0,n):\n",
    "    df_pivot[d+1] = df_pivot[d].shift(-1).fillna(0)\n",
    "    df_pivot.loc[6,d+1] += df_pivot.loc[0,d]\n",
    "    df_pivot.loc[8,d+1] = df_pivot.loc[0,d]\n",
    "    "
   ]
  },
  {
   "cell_type": "code",
   "execution_count": null,
   "id": "59517607",
   "metadata": {},
   "outputs": [],
   "source": [
    "df_pivot.sum()[n]"
   ]
  },
  {
   "cell_type": "markdown",
   "id": "35ca5d56",
   "metadata": {},
   "source": [
    "# J07"
   ]
  },
  {
   "cell_type": "code",
   "execution_count": null,
   "id": "4733c8e2",
   "metadata": {},
   "outputs": [],
   "source": [
    "df = pd.read_csv('J07.csv', sep=',', index_col=None, header=None).T\n",
    "df = df[0].to_list()"
   ]
  },
  {
   "cell_type": "markdown",
   "id": "5133dc31",
   "metadata": {},
   "source": [
    "Part 1"
   ]
  },
  {
   "cell_type": "code",
   "execution_count": null,
   "id": "a582eba3",
   "metadata": {},
   "outputs": [],
   "source": [
    "np.sum(np.abs(df - np.median(df)))"
   ]
  },
  {
   "cell_type": "markdown",
   "id": "25e5dd1d",
   "metadata": {},
   "source": [
    "Part 2"
   ]
  },
  {
   "cell_type": "code",
   "execution_count": null,
   "id": "00360868",
   "metadata": {},
   "outputs": [],
   "source": [
    "test1 = np.sum(np.abs(df - np.floor(np.mean(df))) * (np.abs(df - np.floor(np.mean(df))) + 1))/2\n",
    "test2 = np.sum(np.abs(df - np.ceil(np.mean(df))) * (np.abs(df - np.ceil(np.mean(df))) + 1))/2\n",
    "min(test1, test2)"
   ]
  },
  {
   "cell_type": "markdown",
   "id": "2a72d9ef",
   "metadata": {},
   "source": [
    "# J08"
   ]
  },
  {
   "cell_type": "code",
   "execution_count": null,
   "id": "e3bd560d",
   "metadata": {},
   "outputs": [],
   "source": [
    "df = pd.read_csv('J08.csv', sep=' ', index_col=None, header=None, \n",
    "                 names=['i'+str(i) for i in range(10)]+['s']+['o'+str(i) for i in range(4)])\n",
    "df.drop(columns='s', inplace=True)"
   ]
  },
  {
   "cell_type": "code",
   "execution_count": null,
   "id": "62c10a6c",
   "metadata": {},
   "outputs": [],
   "source": [
    "for c in df.columns:\n",
    "    df[c] = df[c].map(lambda x: ''.join(sorted(x)))"
   ]
  },
  {
   "cell_type": "markdown",
   "id": "2c32af6d",
   "metadata": {},
   "source": [
    "Part 1 : nombre de 1, 4, 7, 8 identifiables juste sur la longueur"
   ]
  },
  {
   "cell_type": "code",
   "execution_count": null,
   "id": "ed811535",
   "metadata": {},
   "outputs": [],
   "source": [
    "n_1478 = 0\n",
    "for i in range(4):\n",
    "    n_1478 += np.sum(df['o'+str(i)].str.len()==2)\n",
    "    n_1478 += np.sum(df['o'+str(i)].str.len()==4)\n",
    "    n_1478 += np.sum(df['o'+str(i)].str.len()==3)\n",
    "    n_1478 += np.sum(df['o'+str(i)].str.len()==7)\n",
    "    "
   ]
  },
  {
   "cell_type": "code",
   "execution_count": null,
   "id": "6818da31",
   "metadata": {},
   "outputs": [],
   "source": [
    "n_1478"
   ]
  },
  {
   "cell_type": "markdown",
   "id": "68139d39",
   "metadata": {},
   "source": [
    "Part 2 : déchiffrement"
   ]
  },
  {
   "cell_type": "markdown",
   "id": "e705eeec",
   "metadata": {},
   "source": [
    "longueur 2 : 1\n",
    "longueur 3 : 7\n",
    "longueur 4 : 4\n",
    "longueur 5 : 2, 3, 5\n",
    "longueur 6 : 0, 6, 9\n",
    "longueur 7 : 8"
   ]
  },
  {
   "cell_type": "code",
   "execution_count": null,
   "id": "4d18e7db",
   "metadata": {},
   "outputs": [],
   "source": [
    "for i in range(10):\n",
    "    df['pos'+str(i)] = None\n",
    "for i in range(4):\n",
    "    df['res_o'+str(i)] = None"
   ]
  },
  {
   "cell_type": "code",
   "execution_count": null,
   "id": "07c5b448",
   "metadata": {},
   "outputs": [],
   "source": [
    "def find_pos_by_length(row, length):\n",
    "    for i in range(10):\n",
    "        if len(row['i'+str(i)])==length:\n",
    "            return i\n",
    "    \n",
    "df['pos1'] = df.apply(lambda row: find_pos_by_length(row, 2), axis=1)\n",
    "df['pos4'] = df.apply(lambda row: find_pos_by_length(row, 4), axis=1)\n",
    "df['pos7'] = df.apply(lambda row: find_pos_by_length(row, 3), axis=1)\n",
    "df['pos8'] = df.apply(lambda row: find_pos_by_length(row, 7), axis=1)"
   ]
  },
  {
   "cell_type": "code",
   "execution_count": null,
   "id": "04274592",
   "metadata": {},
   "outputs": [],
   "source": [
    "def find_pos_by_length_and_contains_car(row, length, car_in=None, car_out=None):\n",
    "    if car_in is None:\n",
    "        car_to_find = ''\n",
    "    else:\n",
    "        car_to_find = row['i'+str(row['pos'+str(car_in)])]\n",
    "    if car_out is None:\n",
    "        car_to_exc = 'z'\n",
    "    else:\n",
    "        car_to_exc = row['i'+str(row['pos'+str(car_out)])]\n",
    "    for i in range(10):\n",
    "\n",
    "        if (len(row['i'+str(i)])==length) & np.all([x in row['i'+str(i)] for x in car_to_find]) \\\n",
    "                                        & (np.all([x in row['i'+str(i)] for x in car_to_exc])==False):\n",
    "            return i  \n",
    "        \n",
    "df['pos9'] = df.apply(lambda row: find_pos_by_length_and_contains_car(row, length=6, car_in=4), axis=1)\n",
    "df['pos0'] = df.apply(lambda row: find_pos_by_length_and_contains_car(row, length=6, car_in=1, car_out=4), axis=1)\n",
    "df['pos6'] = df.apply(lambda row: find_pos_by_length_and_contains_car(row, length=6, car_out=1), axis=1)\n",
    "df['pos3'] = df.apply(lambda row: find_pos_by_length_and_contains_car(row, length=5, car_in=1), axis=1)"
   ]
  },
  {
   "cell_type": "code",
   "execution_count": null,
   "id": "95b393e4",
   "metadata": {},
   "outputs": [],
   "source": [
    "def find_pos_by_length_and_sub_car(row, length, car_sub=None):\n",
    "    if car_sub is None:\n",
    "        car_to_find = 'abcdefg'\n",
    "    else:\n",
    "        car_to_find = row['i'+str(row['pos'+str(car_sub)])]\n",
    "    for i in range(10):\n",
    "        if (len(row['i'+str(i)])==length) & np.all([x in car_to_find for x in row['i'+str(i)]]):\n",
    "            return i\n",
    "    print('________')\n",
    "    \n",
    "df['pos5'] = df.apply(lambda row: find_pos_by_length_and_sub_car(row, length=5, car_sub=6), axis=1)"
   ]
  },
  {
   "cell_type": "code",
   "execution_count": null,
   "id": "e8a5a551",
   "metadata": {},
   "outputs": [],
   "source": [
    "def find_last_pos(row):\n",
    "    found_pos = [row['pos'+str(x)] for x in range(10)]\n",
    "    for x in range(10):\n",
    "        if x not in found_pos:\n",
    "            return x\n",
    "\n",
    "df['pos2'] = df.apply(lambda row: find_last_pos(row), axis=1)"
   ]
  },
  {
   "cell_type": "code",
   "execution_count": null,
   "id": "ec7073c6",
   "metadata": {},
   "outputs": [],
   "source": [
    "def dechiffre(row, code):\n",
    "    for i in range(10):\n",
    "        if row['i'+str(row['pos'+str(i)])] == code:\n",
    "            return i\n",
    "\n",
    "for i in range(4):\n",
    "    df['res_o'+str(i)] = df.apply(lambda row:dechiffre(row, row['o'+str(i)]), axis=1)"
   ]
  },
  {
   "cell_type": "code",
   "execution_count": null,
   "id": "0f8d6617",
   "metadata": {},
   "outputs": [],
   "source": [
    "1000 * df.res_o0.sum() + 100 * df.res_o1.sum() + 10 * df.res_o2.sum() + 1 * df.res_o3.sum()"
   ]
  },
  {
   "cell_type": "markdown",
   "id": "83bd16d4",
   "metadata": {},
   "source": [
    "# J09"
   ]
  },
  {
   "cell_type": "code",
   "execution_count": null,
   "id": "c4f0617c",
   "metadata": {},
   "outputs": [],
   "source": [
    "df = pd.read_csv('J09.csv', sep=' ', index_col=None, header=None, names=['x'])\n",
    "df['x'] = df['x'].apply(lambda x:list(x))\n",
    "df = pd.DataFrame(df['x'].to_list(), columns=['x'+str(i) for i in range(100)])\n",
    "df = df.astype('int32', copy=False)\n",
    "mat = df.to_numpy()"
   ]
  },
  {
   "cell_type": "code",
   "execution_count": null,
   "id": "7000733d",
   "metadata": {},
   "outputs": [],
   "source": [
    "mat2 = mat.copy()\n",
    "row_to_be_added = np.array(mat.shape[0] * [9])\n",
    "col_to_be_added = np.atleast_2d(np.array((mat.shape[1] + 2) * [9])).T\n",
    "mat2 = np.vstack ((row_to_be_added, mat2, row_to_be_added) )\n",
    "mat2 = np.hstack ((col_to_be_added, mat2, col_to_be_added) )"
   ]
  },
  {
   "cell_type": "markdown",
   "id": "a08ee68b",
   "metadata": {},
   "source": [
    "Part 1"
   ]
  },
  {
   "cell_type": "code",
   "execution_count": null,
   "id": "9bb7f023",
   "metadata": {},
   "outputs": [],
   "source": [
    "score = 0\n",
    "\n",
    "for i in range(1,mat2.shape[0]-1):\n",
    "    for j in range(1,mat2.shape[0]-1):\n",
    "        if (mat2[i,j] < mat2[i+1,j]) & (mat2[i,j] < mat2[i-1,j]) & (mat2[i,j] < mat2[i,j+1]) & (mat2[i,j] < mat2[i,j-1]):\n",
    "            score = score + mat2[i,j]+1\n",
    "            "
   ]
  },
  {
   "cell_type": "code",
   "execution_count": null,
   "id": "59679fe6",
   "metadata": {},
   "outputs": [],
   "source": [
    "score"
   ]
  },
  {
   "cell_type": "markdown",
   "id": "7c9f7ee0",
   "metadata": {},
   "source": [
    "Part 2"
   ]
  },
  {
   "cell_type": "code",
   "execution_count": null,
   "id": "06eb78f9",
   "metadata": {},
   "outputs": [],
   "source": [
    "mat3 = np.empty((mat2.shape[0],mat2.shape[1]))\n",
    "mat3[:] = False"
   ]
  },
  {
   "cell_type": "code",
   "execution_count": null,
   "id": "581a2390",
   "metadata": {},
   "outputs": [],
   "source": [
    "def search_basins_size(i,j):\n",
    "    mat3[i, j] = True\n",
    "    if mat2[i,j] == 9:\n",
    "        return 0\n",
    "    n_size = 1\n",
    "    for i_next in [i-1,i+1]:\n",
    "        if not(mat3[i_next, j]):\n",
    "            n_size = n_size + search_basins_size(i_next, j)\n",
    "    for j_next in [j-1,j+1]:\n",
    "        if not(mat3[i, j_next]):\n",
    "            n_size = n_size + search_basins_size(i, j_next)                \n",
    "    return n_size\n"
   ]
  },
  {
   "cell_type": "code",
   "execution_count": null,
   "id": "168b7bda",
   "metadata": {},
   "outputs": [],
   "source": [
    "basins = {}\n",
    "\n",
    "for i in range(1,mat2.shape[0]-1):\n",
    "    for j in range(1,mat2.shape[0]-1):\n",
    "        if (mat2[i,j] < mat2[i+1,j]) & (mat2[i,j] < mat2[i-1,j]) & (mat2[i,j] < mat2[i,j+1]) & (mat2[i,j] < mat2[i,j-1]):\n",
    "            basins[(i,j)] = search_basins_size(i,j)\n",
    "            "
   ]
  },
  {
   "cell_type": "code",
   "execution_count": null,
   "id": "d25ac8c8",
   "metadata": {},
   "outputs": [],
   "source": [
    "basins = {k: v for k, v in sorted(basins.items(), key=lambda item: -item[1])}\n",
    "val = list(basins.values())\n",
    "val[0] * val[1] * val[2]"
   ]
  },
  {
   "cell_type": "markdown",
   "id": "96fc99a2",
   "metadata": {},
   "source": [
    "# J10 "
   ]
  },
  {
   "cell_type": "code",
   "execution_count": null,
   "id": "83f13a4d",
   "metadata": {},
   "outputs": [],
   "source": [
    "df = pd.read_csv('J10.csv', sep=' ', index_col=None, header=None, names=['chunk'])"
   ]
  },
  {
   "cell_type": "code",
   "execution_count": null,
   "id": "5b67afa8",
   "metadata": {},
   "outputs": [],
   "source": [
    "c_ins = ['(', '[', '{', '<']\n",
    "dict_in_out = {'(':')', '[':']', '{':'}', '<':'>'}\n",
    "\n",
    "def search_for_illegal(x):\n",
    "    expected_closure = []\n",
    "    for c in x:\n",
    "        if c in c_ins:\n",
    "            expected_closure.append(dict_in_out[c])\n",
    "        else:\n",
    "            if expected_closure.pop() != c:\n",
    "                return c\n",
    "    return None"
   ]
  },
  {
   "cell_type": "markdown",
   "id": "653477d4",
   "metadata": {},
   "source": [
    "Part 1"
   ]
  },
  {
   "cell_type": "code",
   "execution_count": null,
   "id": "d70fcea6",
   "metadata": {},
   "outputs": [],
   "source": [
    "df['illegal'] = df['chunk'].map(lambda x : search_for_illegal(x))"
   ]
  },
  {
   "cell_type": "code",
   "execution_count": null,
   "id": "3986e787",
   "metadata": {},
   "outputs": [],
   "source": [
    "df['score_illegal'] = df['illegal'].map({')':3,']':57,'}':1197,'>':25137})\n",
    "df['score_illegal'].sum()"
   ]
  },
  {
   "cell_type": "markdown",
   "id": "c01649f4",
   "metadata": {},
   "source": [
    "Part 2"
   ]
  },
  {
   "cell_type": "code",
   "execution_count": null,
   "id": "ac4ea1d6",
   "metadata": {},
   "outputs": [],
   "source": [
    "def search_for_completion(x):\n",
    "    expected_closure = []\n",
    "    for c in x:\n",
    "        if c in c_ins:\n",
    "            expected_closure.append(dict_in_out[c])\n",
    "        else:\n",
    "            if expected_closure.pop() != c:\n",
    "                return []\n",
    "    return expected_closure"
   ]
  },
  {
   "cell_type": "code",
   "execution_count": null,
   "id": "830e35a5",
   "metadata": {},
   "outputs": [],
   "source": [
    "df['completion'] = df['chunk'].map(lambda x : search_for_completion(x))"
   ]
  },
  {
   "cell_type": "code",
   "execution_count": null,
   "id": "55edd68a",
   "metadata": {},
   "outputs": [],
   "source": [
    "dict_score_completion = {')':1, ']':2, '}': 3, '>':4}\n",
    "\n",
    "def get_score_completion(l):\n",
    "    score = 0\n",
    "    for c in reversed(l):\n",
    "        score = 5 * score + dict_score_completion[c]\n",
    "    return (None if score==0 else score)"
   ]
  },
  {
   "cell_type": "code",
   "execution_count": null,
   "id": "f5eb23d6",
   "metadata": {},
   "outputs": [],
   "source": [
    "df['score_completion'] = df['completion'].map(lambda x : get_score_completion(x))\n",
    "df['score_completion'].median()"
   ]
  },
  {
   "cell_type": "markdown",
   "id": "2eae206c",
   "metadata": {},
   "source": [
    "# J11"
   ]
  },
  {
   "cell_type": "code",
   "execution_count": null,
   "id": "dc1eaba6",
   "metadata": {},
   "outputs": [],
   "source": [
    "df = pd.read_csv('J11.csv', sep=' ', index_col=None, header=None, names=['x'], dtype=str)\n",
    "n_cols = len(df.loc[0,'x'])\n",
    "df['x'] = df['x'].map(lambda r : [int(x) for x in r])\n",
    "df = pd.DataFrame(df['x'].to_list(), columns=range(n_cols))\n",
    "mat = df.to_numpy()"
   ]
  },
  {
   "cell_type": "markdown",
   "id": "0a79319e",
   "metadata": {},
   "source": [
    "Part 1"
   ]
  },
  {
   "cell_type": "code",
   "execution_count": null,
   "id": "124cef4f",
   "metadata": {},
   "outputs": [],
   "source": [
    "mat2 = mat.copy()"
   ]
  },
  {
   "cell_type": "code",
   "execution_count": null,
   "id": "2fd7d011",
   "metadata": {},
   "outputs": [],
   "source": [
    "n_steps = 100\n",
    "n_flashs = 0\n",
    "\n",
    "for step in range(n_steps):\n",
    "    mat2[:] = mat2[:] + 1\n",
    "    while np.any(mat2 >= 10):\n",
    "        ind = zip(*np.where(mat2>=10))\n",
    "        for i,j in ind:\n",
    "            mat2[i,j] = 0\n",
    "            n_flashs += 1\n",
    "            for i_cur in [i-1,i,i+1]:\n",
    "                for j_cur in [j-1,j,j+1]:\n",
    "                    if (i_cur >= 0) & (j_cur >= 0) & (i_cur < mat2.shape[0]) \\\n",
    "                                    & (j_cur < mat2.shape[1]) & (((i_cur == i) & (j_cur == j)) == False):\n",
    "                        if mat2[i_cur, j_cur] > 0:\n",
    "                            mat2[i_cur, j_cur] += 1"
   ]
  },
  {
   "cell_type": "code",
   "execution_count": null,
   "id": "5a99cd08",
   "metadata": {},
   "outputs": [],
   "source": [
    "n_flashs"
   ]
  },
  {
   "cell_type": "markdown",
   "id": "da9610ac",
   "metadata": {},
   "source": [
    "Part 2"
   ]
  },
  {
   "cell_type": "code",
   "execution_count": null,
   "id": "bcf99486",
   "metadata": {},
   "outputs": [],
   "source": [
    "mat3 = mat.copy()"
   ]
  },
  {
   "cell_type": "code",
   "execution_count": null,
   "id": "38514116",
   "metadata": {},
   "outputs": [],
   "source": [
    "n_steps = 1_000_000\n",
    "\n",
    "for step in range(n_steps):\n",
    "    if np.all(mat3 == mat3.mean()):\n",
    "        break\n",
    "    mat3[:] = mat3[:] + 1\n",
    "    while np.any(mat3 >= 10):\n",
    "        ind = zip(*np.where(mat3>=10))\n",
    "        for i,j in ind:\n",
    "            mat3[i,j] = 0\n",
    "            for i_cur in [i-1,i,i+1]:\n",
    "                for j_cur in [j-1,j,j+1]:\n",
    "                    if (i_cur >= 0) & (j_cur >= 0) & (i_cur < mat3.shape[0]) \\\n",
    "                                    & (j_cur < mat3.shape[1]) & (((i_cur == i) & (j_cur == j)) == False):\n",
    "                        if mat3[i_cur, j_cur] > 0:\n",
    "                            mat3[i_cur, j_cur] += 1\n",
    "\n",
    "step"
   ]
  },
  {
   "cell_type": "markdown",
   "id": "316235d7",
   "metadata": {},
   "source": [
    "# J12"
   ]
  },
  {
   "cell_type": "code",
   "execution_count": null,
   "id": "0b35ef4a",
   "metadata": {},
   "outputs": [],
   "source": [
    "df = pd.read_csv('J12.csv', sep='-', index_col=None, header=None, names=['cave1', 'cave2'])\n",
    "caves = dict.fromkeys(set(df['cave1'].to_list() + df['cave2'].to_list()))\n",
    "for k in caves:\n",
    "    caves[k] = []"
   ]
  },
  {
   "cell_type": "code",
   "execution_count": null,
   "id": "f7309d85",
   "metadata": {},
   "outputs": [],
   "source": [
    "for _, row in df.iterrows():\n",
    "    if row.cave2 not in caves[row.cave1]: caves[row.cave1].append(row.cave2)\n",
    "    if row.cave1 not in caves[row.cave2]: caves[row.cave2].append(row.cave1)\n"
   ]
  },
  {
   "cell_type": "markdown",
   "id": "5717049f",
   "metadata": {},
   "source": [
    "Part 1 : small caves can be visited only once"
   ]
  },
  {
   "cell_type": "code",
   "execution_count": null,
   "id": "8ba49be3",
   "metadata": {},
   "outputs": [],
   "source": [
    "found_paths = []"
   ]
  },
  {
   "cell_type": "code",
   "execution_count": null,
   "id": "e02793d0",
   "metadata": {},
   "outputs": [],
   "source": [
    "def parcours_path_in_deph(my_path):\n",
    "    last_item = my_path[-1]\n",
    "    for next_item in caves[last_item]:\n",
    "        if next_item == 'end':\n",
    "            found_paths.append(my_path+['end'])\n",
    "        elif next_item.islower() & (next_item in my_path):\n",
    "            do_nothing = 0\n",
    "        else:\n",
    "            parcours_path_in_deph(my_path + [next_item])"
   ]
  },
  {
   "cell_type": "code",
   "execution_count": null,
   "id": "abe3d038",
   "metadata": {},
   "outputs": [],
   "source": [
    "parcours_path_in_deph(['start'])\n",
    "len(found_paths)"
   ]
  },
  {
   "cell_type": "markdown",
   "id": "059c353c",
   "metadata": {},
   "source": [
    "Part 2 : only one small cave can be visited twice"
   ]
  },
  {
   "cell_type": "code",
   "execution_count": null,
   "id": "e743bdd4",
   "metadata": {},
   "outputs": [],
   "source": [
    "import sys\n",
    "sys.setrecursionlimit(50_000)"
   ]
  },
  {
   "cell_type": "code",
   "execution_count": null,
   "id": "f193b782",
   "metadata": {},
   "outputs": [],
   "source": [
    "found_paths = []"
   ]
  },
  {
   "cell_type": "code",
   "execution_count": null,
   "id": "0ac7eabc",
   "metadata": {},
   "outputs": [],
   "source": [
    "def parcours_path_in_deph_with_joker(my_path, joker_has_been_used):\n",
    "    last_item = my_path[-1]\n",
    "    for next_item in caves[last_item]:\n",
    "        if next_item == 'end':\n",
    "            found_paths.append(my_path+['end'])\n",
    "        elif next_item.islower() & (next_item in my_path):\n",
    "            if (next_item in ['start', 'end']) | joker_has_been_used:\n",
    "                do_nothing = 0\n",
    "            else:\n",
    "                parcours_path_in_deph_with_joker(my_path + [next_item], True)\n",
    "        else:\n",
    "            parcours_path_in_deph_with_joker(my_path + [next_item], joker_has_been_used)"
   ]
  },
  {
   "cell_type": "code",
   "execution_count": null,
   "id": "426c13a1",
   "metadata": {},
   "outputs": [],
   "source": [
    "parcours_path_in_deph_with_joker(['start'], False)\n",
    "len(found_paths)"
   ]
  },
  {
   "cell_type": "markdown",
   "id": "a6f96d64",
   "metadata": {},
   "source": [
    "# J13"
   ]
  },
  {
   "cell_type": "code",
   "execution_count": null,
   "id": "0966cf4f",
   "metadata": {},
   "outputs": [],
   "source": [
    "df = pd.read_csv('J13.csv', sep=',', index_col=None, header=None, names=['x','y'], dtype=str)\n",
    "first_na = np.where(df.y.isna())[0][0]\n",
    "folds = df.x.iloc[first_na:].values\n",
    "df = df.iloc[:first_na]\n",
    "df = df.astype('int32', copy=False)"
   ]
  },
  {
   "cell_type": "markdown",
   "id": "c3b011d9",
   "metadata": {},
   "source": [
    "Part 1 : First fold"
   ]
  },
  {
   "cell_type": "code",
   "execution_count": null,
   "id": "b9bd8bfa",
   "metadata": {},
   "outputs": [],
   "source": [
    "df2 = df.copy()"
   ]
  },
  {
   "cell_type": "code",
   "execution_count": null,
   "id": "c65826af",
   "metadata": {},
   "outputs": [],
   "source": [
    "fold = folds[0]\n",
    "fold_axis = fold[11]\n",
    "fold_value = int(fold[13:])"
   ]
  },
  {
   "cell_type": "code",
   "execution_count": null,
   "id": "5785d85b",
   "metadata": {},
   "outputs": [],
   "source": [
    "df2[fold_axis] = df2[fold_axis].map(lambda x : x if x < fold_value else fold_value - (x-fold_value))"
   ]
  },
  {
   "cell_type": "code",
   "execution_count": null,
   "id": "7db7203e",
   "metadata": {},
   "outputs": [],
   "source": [
    "df2.groupby(['x', 'y']).ngroups"
   ]
  },
  {
   "cell_type": "markdown",
   "id": "7ea238e4",
   "metadata": {},
   "source": [
    "Part 2"
   ]
  },
  {
   "cell_type": "code",
   "execution_count": null,
   "id": "517f91b3",
   "metadata": {},
   "outputs": [],
   "source": [
    "df3 = df.copy()"
   ]
  },
  {
   "cell_type": "code",
   "execution_count": null,
   "id": "eac32415",
   "metadata": {},
   "outputs": [],
   "source": [
    "for fold in folds:\n",
    "    fold_axis = fold[11]\n",
    "    fold_value = int(fold[13:])\n",
    "    df3[fold_axis] = df3[fold_axis].map(lambda x : x if x < fold_value else fold_value - (x-fold_value))"
   ]
  },
  {
   "cell_type": "code",
   "execution_count": null,
   "id": "8917f8bc",
   "metadata": {},
   "outputs": [],
   "source": [
    "max_x = df3.x.max()\n",
    "max_y = df3.y.max()"
   ]
  },
  {
   "cell_type": "code",
   "execution_count": null,
   "id": "90a3dfea",
   "metadata": {},
   "outputs": [],
   "source": [
    "mat = np.zeros((max_y+1, max_x+1))\n",
    "\n",
    "for _, row in df3.iterrows():\n",
    "    mat[row.y, row.x] = 1"
   ]
  },
  {
   "cell_type": "code",
   "execution_count": null,
   "id": "bc00a5de",
   "metadata": {},
   "outputs": [],
   "source": [
    "plt.imshow(mat, interpolation='nearest')\n",
    "plt.show()"
   ]
  },
  {
   "cell_type": "markdown",
   "id": "3f5fb5c4",
   "metadata": {},
   "source": [
    "# J14"
   ]
  },
  {
   "cell_type": "code",
   "execution_count": null,
   "id": "d6f49b8e",
   "metadata": {},
   "outputs": [],
   "source": [
    "df = pd.read_csv('J14.csv', sep=' -> ', index_col=None, header=None, names=['couple','insert'], dtype=str)\n",
    "polymer0 = df.loc[0,'couple']\n",
    "df = df.loc[1:].reset_index(drop=True)\n",
    "dict_transfo = dict(zip(df['couple'].to_list(), df['insert'].to_list()))"
   ]
  },
  {
   "cell_type": "code",
   "execution_count": null,
   "id": "c9f00440",
   "metadata": {},
   "outputs": [],
   "source": [
    "def compute_one_step(polymer):\n",
    "    n = len(polymer)\n",
    "    n_added = 0\n",
    "    for i in range(n-1):\n",
    "        if polymer[n_added+i:n_added+i+2] in dict_transfo:\n",
    "            polymer = polymer[:n_added+i+1] + dict_transfo[polymer[n_added+i:n_added+i+2]] + polymer[n_added+i+1:]\n",
    "            n_added += 1\n",
    "    return polymer"
   ]
  },
  {
   "cell_type": "markdown",
   "id": "083b8f22",
   "metadata": {},
   "source": [
    "Part 1"
   ]
  },
  {
   "cell_type": "code",
   "execution_count": null,
   "id": "3f0cf11a",
   "metadata": {},
   "outputs": [],
   "source": [
    "n_steps = 10"
   ]
  },
  {
   "cell_type": "code",
   "execution_count": null,
   "id": "f8dc40d8",
   "metadata": {},
   "outputs": [],
   "source": [
    "polymer = polymer0\n",
    "for i in range(n_steps):\n",
    "    polymer = compute_one_step(polymer)"
   ]
  },
  {
   "cell_type": "code",
   "execution_count": null,
   "id": "6a728fad",
   "metadata": {},
   "outputs": [],
   "source": [
    "dict_count_letters = dict.fromkeys(list(set(polymer)), 0)\n",
    "for c in dict_count_letters:\n",
    "    dict_count_letters[c] = polymer.count(c)\n",
    "dict_count_letters = {k: v for k, v in sorted(dict_count_letters.items(), key=lambda item: item[1])}"
   ]
  },
  {
   "cell_type": "code",
   "execution_count": null,
   "id": "0eea5ba5",
   "metadata": {},
   "outputs": [],
   "source": [
    "list(dict_count_letters.values())[-1] - list(dict_count_letters.values())[0]"
   ]
  },
  {
   "cell_type": "markdown",
   "id": "259969a3",
   "metadata": {},
   "source": [
    "Part 2"
   ]
  },
  {
   "cell_type": "code",
   "execution_count": null,
   "id": "9561718f",
   "metadata": {},
   "outputs": [],
   "source": [
    "n_steps = 40"
   ]
  },
  {
   "cell_type": "code",
   "execution_count": null,
   "id": "73a3ddda",
   "metadata": {},
   "outputs": [],
   "source": [
    "all_pairs = set()\n",
    "n = len(polymer0)\n",
    "for i in range(n-1):\n",
    "    all_pairs.add(polymer0[i:i+2])\n",
    "for k, v in dict_transfo.items():\n",
    "    all_pairs.add(k)\n",
    "    all_pairs.add(k[0]+v)\n",
    "    all_pairs.add(v+k[1])\n",
    "all_pairs = list(all_pairs)\n",
    "n_pairs = len(all_pairs)\n",
    "dict_place_pairs = {}\n",
    "for i, p in enumerate(all_pairs):\n",
    "    dict_place_pairs[p] = i"
   ]
  },
  {
   "cell_type": "code",
   "execution_count": null,
   "id": "86402ffd",
   "metadata": {},
   "outputs": [],
   "source": [
    "mat_transfo = np.zeros((n_pairs, n_pairs))\n",
    "statut = np.zeros((1, n_pairs))"
   ]
  },
  {
   "cell_type": "code",
   "execution_count": null,
   "id": "9b11bee3",
   "metadata": {},
   "outputs": [],
   "source": [
    "for i in range(n-1):\n",
    "    statut[0,dict_place_pairs[polymer0[i:i+2]]] += 1"
   ]
  },
  {
   "cell_type": "code",
   "execution_count": null,
   "id": "cf3c2eb1",
   "metadata": {},
   "outputs": [],
   "source": [
    "for k, v in dict_transfo.items():\n",
    "    mat_transfo[dict_place_pairs[k], dict_place_pairs[k[0]+v]] = 1\n",
    "    mat_transfo[dict_place_pairs[k], dict_place_pairs[v+k[1]]] = 1\n",
    "mat_transfo = mat_transfo.T"
   ]
  },
  {
   "cell_type": "code",
   "execution_count": null,
   "id": "82597366",
   "metadata": {},
   "outputs": [],
   "source": [
    "for i in range(n_steps):\n",
    "    statut = mat_transfo.dot(statut.T).T"
   ]
  },
  {
   "cell_type": "code",
   "execution_count": null,
   "id": "276f3a6e",
   "metadata": {},
   "outputs": [],
   "source": [
    "dict_count_letters = {}\n",
    "for i in range(n_pairs):\n",
    "    if statut[0,i] > 0:\n",
    "        for j in [0,1]:\n",
    "            dict_count_letters[all_pairs[i][j]] = statut[0,i] \\\n",
    "                        + (dict_count_letters[all_pairs[i][j]] if all_pairs[i][j] in dict_count_letters else 0)\n",
    "\n",
    "dict_count_letters[polymer0[0]] += 1\n",
    "dict_count_letters[polymer0[-1]] += 1\n",
    "for k in dict_count_letters:\n",
    "        dict_count_letters[k] /= 2\n",
    "\n",
    "dict_count_letters = {k: v for k, v in sorted(dict_count_letters.items(), key=lambda item: item[1])}"
   ]
  },
  {
   "cell_type": "code",
   "execution_count": null,
   "id": "58a7d430",
   "metadata": {},
   "outputs": [],
   "source": [
    "list(dict_count_letters.values())[-1] - list(dict_count_letters.values())[0]"
   ]
  },
  {
   "cell_type": "markdown",
   "id": "7c8b2e37",
   "metadata": {},
   "source": [
    "# J15"
   ]
  },
  {
   "cell_type": "code",
   "execution_count": null,
   "id": "f9077c02",
   "metadata": {},
   "outputs": [],
   "source": [
    "df = pd.read_csv('J15.csv', sep=' ', index_col=None, header=None, names=['code'], dtype=str)\n",
    "df['code'] = df['code'].map(lambda r : [int(x) for x in r])\n",
    "n_cols = len(df.loc[0,'code'])\n",
    "df = pd.DataFrame(df['code'].to_list(), columns=range(n_cols))"
   ]
  },
  {
   "cell_type": "markdown",
   "id": "aa589532",
   "metadata": {},
   "source": [
    "Part 1"
   ]
  },
  {
   "cell_type": "code",
   "execution_count": null,
   "id": "fa6d4ab2",
   "metadata": {},
   "outputs": [],
   "source": [
    "def dijkstra(df, s_dep):\n",
    "    distances = {(x, y) : np.Inf for y in range(df.shape[1]) for x in range(df.shape[0])}\n",
    "    pile = [(0, s_dep)]\n",
    "    \n",
    "    while pile:\n",
    "        distance, (x, y) = heapq.heappop(pile)\n",
    "        if distance > distances[(x,y)]:\n",
    "            continue\n",
    "        \n",
    "        if (x,y) == (df.shape[0]-1, df.shape[1]-1):\n",
    "            return distance\n",
    "        \n",
    "        for neighbor in [(x+1,y), (x-1,y), (x,y+1), (x,y-1)]:\n",
    "            if neighbor in distances:\n",
    "                if distance + df.loc[neighbor[0], neighbor[1]] < distances[neighbor]:\n",
    "                    distances[neighbor] = distance + df.loc[neighbor[0], neighbor[1]]\n",
    "                    heapq.heappush(pile, (distances[neighbor], neighbor))\n",
    "                    \n",
    "    return distances[(df.shape[0]-1, df.shape[1]-1)]\n",
    "        "
   ]
  },
  {
   "cell_type": "code",
   "execution_count": null,
   "id": "4908b34b",
   "metadata": {},
   "outputs": [],
   "source": [
    "dijkstra(df, (0,0))"
   ]
  },
  {
   "cell_type": "markdown",
   "id": "af3b807b",
   "metadata": {},
   "source": [
    "Part 2 : première implémentation de Dijkstra remplacé par une implantation par file par arbre binaire heapq"
   ]
  },
  {
   "cell_type": "code",
   "execution_count": null,
   "id": "d6b61d5c",
   "metadata": {},
   "outputs": [],
   "source": [
    "df2 = df.copy()\n",
    "\n",
    "for i in range(1,5):\n",
    "    for c in df.columns:\n",
    "        df2[c + i * df.shape[1]] = df2[c + (i-1) * df.shape[1]].map(lambda x : x+1 if x<9 else 1)\n",
    "\n",
    "for i in range(1,5):\n",
    "    for c in range(df.shape[0]):\n",
    "        df2.loc[c + i * df.shape[0]] = df2.loc[c + (i-1) * df.shape[0]].map(lambda x : x+1 if x<9 else 1)\n",
    "\n",
    "dijkstra(df2, (0,0))"
   ]
  },
  {
   "cell_type": "markdown",
   "id": "ba7591e5",
   "metadata": {},
   "source": [
    "# J16"
   ]
  },
  {
   "cell_type": "code",
   "execution_count": null,
   "id": "703bdf7b",
   "metadata": {},
   "outputs": [],
   "source": [
    "df = pd.read_csv('J16.csv', sep=' ', index_col=None, header=None, names=['code'], dtype=str)\n",
    "code = df.loc[0,'code']"
   ]
  },
  {
   "cell_type": "code",
   "execution_count": null,
   "id": "81bf79c5",
   "metadata": {},
   "outputs": [],
   "source": [
    "code_bit = bin(int(code, 16))[2:].zfill(4 * len(code))\n"
   ]
  },
  {
   "cell_type": "code",
   "execution_count": null,
   "id": "f5a68243",
   "metadata": {},
   "outputs": [],
   "source": [
    "def decode_litteral_paquet(paquet_to_end):\n",
    "    litteral = ''\n",
    "    debut_paquet = 0\n",
    "    n_bloc = 0\n",
    "    while True:\n",
    "        litteral = litteral + paquet_to_end[debut_paquet+1:debut_paquet+5]\n",
    "        n_bloc += 1 \n",
    "        if (paquet_to_end[debut_paquet] == '0'):\n",
    "            break\n",
    "        debut_paquet = debut_paquet + 5\n",
    "    litteral = int(litteral, 2)\n",
    "    \n",
    "    curseur = 5 * n_bloc\n",
    "    return litteral, curseur\n",
    "    "
   ]
  },
  {
   "cell_type": "code",
   "execution_count": null,
   "id": "1f36b5a5",
   "metadata": {},
   "outputs": [],
   "source": [
    "def decode_operateur_paquet(paquet_to_end):\n",
    "    type_length = paquet_to_end[0]\n",
    "    if type_length == '0':\n",
    "        total_length_in_bits = int(paquet_to_end[1:16], 2)\n",
    "        nb_sub_paquets = None\n",
    "        curseur = 16\n",
    "    else:\n",
    "        total_length_in_bits = None\n",
    "        nb_sub_paquets = int(paquet_to_end[1:12], 2)\n",
    "        curseur = 12\n",
    "\n",
    "    return type_length, total_length_in_bits, nb_sub_paquets, curseur"
   ]
  },
  {
   "cell_type": "markdown",
   "id": "cc1f682d",
   "metadata": {},
   "source": [
    "Part 1"
   ]
  },
  {
   "cell_type": "code",
   "execution_count": null,
   "id": "230be9bc",
   "metadata": {},
   "outputs": [],
   "source": [
    "n_bits = len(code_bit)\n",
    "cur_bit = 0\n",
    "som_paquet_version = 0\n",
    "while (cur_bit < n_bits) & np.any([x != '0' for x in code_bit[cur_bit:]]):\n",
    "    #cur_bit indique toujours le début d'un paquet\n",
    "    paquet_version = int(code_bit[cur_bit:cur_bit+3], 2)\n",
    "    paquet_id = int(code_bit[cur_bit+3:cur_bit+6], 2)\n",
    "    som_paquet_version += paquet_version\n",
    "    \n",
    "    if paquet_id == 4: #litteral\n",
    "        _, cur_bit_new = decode_litteral_paquet(code_bit[cur_bit+6:])\n",
    "    else: #operateur\n",
    "        type_length, total_length_in_bits, nb_sub_paquets, cur_bit_new = decode_operateur_paquet(code_bit[cur_bit+6:])\n",
    "    cur_bit += cur_bit_new+6"
   ]
  },
  {
   "cell_type": "code",
   "execution_count": null,
   "id": "1f672b01",
   "metadata": {},
   "outputs": [],
   "source": [
    "som_paquet_version"
   ]
  },
  {
   "cell_type": "markdown",
   "id": "7dccfba6",
   "metadata": {},
   "source": [
    "Part 2"
   ]
  },
  {
   "cell_type": "code",
   "execution_count": null,
   "id": "27ad8028",
   "metadata": {},
   "outputs": [],
   "source": [
    "n_bits = len(code_bit)\n",
    "cur_bit = 0\n",
    "list_nodes = {}\n",
    "n_nodes = 0\n",
    "\n",
    "while (cur_bit < n_bits) & np.any([x != '0' for x in code_bit[cur_bit:]]):\n",
    "    #cur_bit indique toujours le début d'un paquet\n",
    "    paquet_version = int(code_bit[cur_bit:cur_bit+3], 2)\n",
    "    paquet_id = int(code_bit[cur_bit+3:cur_bit+6], 2)\n",
    "    \n",
    "    if paquet_id == 4: #litteral\n",
    "        value, cur_bit_new = decode_litteral_paquet(code_bit[cur_bit+6:])\n",
    "        type_length = None\n",
    "        total_length_in_bits = None\n",
    "        nb_sub_paquets = None\n",
    "    else: #operateur\n",
    "        value = None\n",
    "        type_length, total_length_in_bits, nb_sub_paquets, cur_bit_new = decode_operateur_paquet(code_bit[cur_bit+6:])\n",
    "    cur_bit += cur_bit_new+6\n",
    "    list_nodes[n_nodes] = (paquet_version, paquet_id, \n",
    "                           value, \n",
    "                           type_length, total_length_in_bits, nb_sub_paquets, \n",
    "                           cur_bit_new+6, [], [])\n",
    "    n_nodes += 1"
   ]
  },
  {
   "cell_type": "code",
   "execution_count": null,
   "id": "1d977697",
   "metadata": {},
   "outputs": [],
   "source": [
    "for node in range(n_nodes-1, -1, -1):\n",
    "    if list_nodes[node][1] == 4:\n",
    "        continue\n",
    "    if list_nodes[node][3] == '0': # longueur en bits\n",
    "        length_added = 0\n",
    "        for node_next in range(node+1, n_nodes):\n",
    "            if (node_next in list_nodes[node][8]) == False:\n",
    "                list_nodes[node][7].append(node_next)\n",
    "                for c in list_nodes[node_next][8] + [node_next]:\n",
    "                    if( c in list_nodes[node][8]) == False:\n",
    "                        list_nodes[node][8].append(c)\n",
    "            length_added += list_nodes[node_next][6]\n",
    "            if length_added >= list_nodes[node][4]:\n",
    "                break\n",
    "    else: #longueur en paquets\n",
    "        n_nodes_added = 0\n",
    "        for node_next in range(node+1, n_nodes):\n",
    "            if (node_next in list_nodes[node][8]) == False:\n",
    "                list_nodes[node][7].append(node_next)\n",
    "                for c in list_nodes[node_next][8] + [node_next]:\n",
    "                    if( c in list_nodes[node][8]) == False:\n",
    "                        list_nodes[node][8].append(c)\n",
    "                n_nodes_added += 1\n",
    "            if n_nodes_added >= list_nodes[node][5]:\n",
    "                break"
   ]
  },
  {
   "cell_type": "code",
   "execution_count": null,
   "id": "f2b6538a",
   "metadata": {},
   "outputs": [],
   "source": [
    "#Remove doublons\n",
    "for node in range(n_nodes):\n",
    "    l = list_nodes[node][7].copy()\n",
    "    for node_next in l:\n",
    "        for c in list_nodes[node_next][7]:\n",
    "            if c in list_nodes[node][7]:\n",
    "                list_nodes[node][7].remove(c)"
   ]
  },
  {
   "cell_type": "code",
   "execution_count": null,
   "id": "f54d6e22",
   "metadata": {},
   "outputs": [],
   "source": [
    "dict_values = {}\n",
    "for node in range(n_nodes-1, -1, -1):\n",
    "    if list_nodes[node][1] == 4:\n",
    "        value = list_nodes[node][2]\n",
    "    elif list_nodes[node][1] == 0:\n",
    "        somme = 0\n",
    "        for node_next in list_nodes[node][7]:\n",
    "            p = dict_values[node_next]\n",
    "            somme += p\n",
    "        value = somme        \n",
    "    elif list_nodes[node][1] == 1:\n",
    "        prod = 1\n",
    "        for node_next in list_nodes[node][7]:\n",
    "            prod *= dict_values[node_next]\n",
    "        value = prod\n",
    "    elif list_nodes[node][1] == 2:\n",
    "        min_v = np.inf\n",
    "        for node_next in list_nodes[node][7]:\n",
    "            min_v = min(min_v, dict_values[node_next])\n",
    "        value = min_v\n",
    "    elif list_nodes[node][1] == 3:\n",
    "        max_v = 0\n",
    "        for node_next in list_nodes[node][7]:\n",
    "            max_v = max(max_v, dict_values[node_next])\n",
    "        value = max_v\n",
    "    elif list_nodes[node][1] == 5:\n",
    "        if (dict_values[list_nodes[node][7][0]] > dict_values[list_nodes[node][7][1]]):\n",
    "            value = 1\n",
    "        else:\n",
    "            value = 0\n",
    "    elif list_nodes[node][1] == 6:\n",
    "        if (dict_values[list_nodes[node][7][0]] < dict_values[list_nodes[node][7][1]]):\n",
    "            value = 1\n",
    "        else:\n",
    "            value = 0\n",
    "    elif list_nodes[node][1] == 7:\n",
    "        if (dict_values[list_nodes[node][7][0]] == dict_values[list_nodes[node][7][1]]):\n",
    "            value = 1\n",
    "        else:\n",
    "            value = 0\n",
    "    dict_values[node] = value"
   ]
  },
  {
   "cell_type": "code",
   "execution_count": null,
   "id": "4de223b6",
   "metadata": {},
   "outputs": [],
   "source": [
    "dict_values[0]"
   ]
  },
  {
   "cell_type": "markdown",
   "id": "ddc2939f",
   "metadata": {},
   "source": [
    "# J17"
   ]
  },
  {
   "cell_type": "markdown",
   "id": "e1675e5e",
   "metadata": {},
   "source": [
    "target area: x=155..182, y=-117..-67"
   ]
  },
  {
   "cell_type": "code",
   "execution_count": null,
   "id": "bb2dd9ee",
   "metadata": {},
   "outputs": [],
   "source": [
    "target_xmin = 155\n",
    "target_xmax = 182\n",
    "target_ymin = -117\n",
    "target_ymax = -67"
   ]
  },
  {
   "cell_type": "code",
   "execution_count": null,
   "id": "dbbf902a",
   "metadata": {},
   "outputs": [],
   "source": [
    "vx_min = int((1+ np.sqrt(8*target_xmin)) / 2) - 1\n",
    "vx_max = target_xmax\n",
    "vy_min = target_ymin-1\n",
    "vy_max = abs(vy_min)"
   ]
  },
  {
   "cell_type": "code",
   "execution_count": null,
   "id": "e7734c5f",
   "metadata": {},
   "outputs": [],
   "source": [
    "def calcule_trajectoire(v0x, v0y):\n",
    "    #On suppose v0x positif\n",
    "    #On vérifie si x atteint au moins le mini\n",
    "    x_max_atteint = v0x**2 + v0x * (v0x - 1) / 2\n",
    "    if x_max_atteint < target_xmin:\n",
    "        return np.NaN\n",
    "    \n",
    "    n = 0\n",
    "    x = 0\n",
    "    y = 0\n",
    "    y_max = 0\n",
    "    vx = v0x\n",
    "    vy = v0y\n",
    "    while True:\n",
    "        if (x > target_xmax) | (y < target_ymin):\n",
    "            return False, np.NaN\n",
    "        y_max = max(y_max, y)\n",
    "        if (target_xmin <= x <= target_xmax) & (target_ymin <= y <= target_ymax):\n",
    "            return True, y_max\n",
    "        n += 1\n",
    "        x += vx\n",
    "        y += vy\n",
    "        vx = vx-1 if vx>0 else 0\n",
    "        vy -= 1"
   ]
  },
  {
   "cell_type": "markdown",
   "id": "74d1e922",
   "metadata": {},
   "source": [
    "Part 1"
   ]
  },
  {
   "cell_type": "code",
   "execution_count": null,
   "id": "b3c51186",
   "metadata": {},
   "outputs": [],
   "source": [
    "y_max = 0\n",
    "for vx in range(vx_min, vx_max+1):\n",
    "    for vy in range(vy_min, vy_max+1):\n",
    "        _, y = calcule_trajectoire(vx, vy)\n",
    "        if (y>y_max):\n",
    "            y_max = y"
   ]
  },
  {
   "cell_type": "code",
   "execution_count": null,
   "id": "3ba34652",
   "metadata": {},
   "outputs": [],
   "source": [
    "y_max"
   ]
  },
  {
   "cell_type": "markdown",
   "id": "86433065",
   "metadata": {},
   "source": [
    "Part 2"
   ]
  },
  {
   "cell_type": "code",
   "execution_count": null,
   "id": "1ee04080",
   "metadata": {},
   "outputs": [],
   "source": [
    "n_correct = 0\n",
    "for vx in range(vx_min, vx_max+1):\n",
    "    for vy in range(vy_min, vy_max+1):\n",
    "        s,_ = calcule_trajectoire(vx, vy)\n",
    "        if s:\n",
    "            n_correct += 1"
   ]
  },
  {
   "cell_type": "code",
   "execution_count": null,
   "id": "d1c2b9bf",
   "metadata": {},
   "outputs": [],
   "source": [
    "n_correct"
   ]
  },
  {
   "cell_type": "markdown",
   "id": "337e56eb",
   "metadata": {},
   "source": [
    "# J18"
   ]
  },
  {
   "cell_type": "markdown",
   "id": "a9714b6e",
   "metadata": {},
   "source": [
    "Code trouvé sur Reddit - weekend de noel"
   ]
  },
  {
   "cell_type": "code",
   "execution_count": null,
   "id": "45de0ee6",
   "metadata": {},
   "outputs": [],
   "source": [
    "df = pd.read_csv('J18.csv', sep=' ', index_col=None, header=None, names=['snailfish'], dtype=str)\n",
    "df"
   ]
  },
  {
   "cell_type": "markdown",
   "id": "4cb00548",
   "metadata": {},
   "source": [
    "Part 1"
   ]
  },
  {
   "cell_type": "code",
   "execution_count": null,
   "id": "a6835793",
   "metadata": {},
   "outputs": [],
   "source": [
    "def parse_numbers(lines):\n",
    "    for line in lines:\n",
    "        it = iter(line)\n",
    "        if next(it) != '[':\n",
    "            raise ValueError\n",
    "        yield parse_number_rec(it)\n",
    "\n",
    "def parse_number_rec(it):\n",
    "    c = next(it)\n",
    "    if c == '[':\n",
    "        left = parse_number_rec(it)\n",
    "        c = next(it)\n",
    "    else:\n",
    "        left, c = parse_number_regular(c, it)\n",
    "    if c != ',':\n",
    "        raise ValueError\n",
    "    c = next(it)\n",
    "    if c == '[':\n",
    "        right = parse_number_rec(it)\n",
    "        c = next(it)\n",
    "    else:\n",
    "        right, c = parse_number_regular(c, it)\n",
    "    if c != ']':\n",
    "        raise ValueError\n",
    "    return (left, right)\n",
    "\n",
    "def parse_number_regular(c, it):\n",
    "    n = 0\n",
    "    while c in '0123456789':\n",
    "        n *= 10\n",
    "        n += int(c, 10)\n",
    "        c = next(it)\n",
    "    return n, c\n",
    "\n",
    "def add_numbers(a, b):\n",
    "    return reduce_number((a, b))\n",
    "\n",
    "def reduce_number(n):\n",
    "    reduced = True\n",
    "    while reduced:\n",
    "        n, reduced, *_ = explode_rec(n, 0)\n",
    "        if not reduced:\n",
    "            n, reduced = split_rec(n)\n",
    "    return n\n",
    "\n",
    "def explode_rec(n, level):\n",
    "    if not isinstance(n, int):\n",
    "        l, r = n\n",
    "        if level >= 4:\n",
    "            return 0, True, l, r\n",
    "        else:\n",
    "            l, reduced, expl, expr = explode_rec(l, level + 1)\n",
    "            if reduced:\n",
    "                if expr != 0:\n",
    "                    r = add_left(r, expr)\n",
    "                    expr = 0\n",
    "            else:\n",
    "                r, reduced, expl, expr = explode_rec(r, level + 1)\n",
    "                if reduced:\n",
    "                    if expl != 0:\n",
    "                        l = add_right(l, expl)\n",
    "                        expl = 0\n",
    "            if reduced:\n",
    "                return (l, r), True, expl, expr\n",
    "    return n, False, 0, 0\n",
    "\n",
    "def add_left(n, m):\n",
    "    if isinstance(n, int):\n",
    "        return n + m\n",
    "    else:\n",
    "        a, b = n\n",
    "        return add_left(a, m), b\n",
    "\n",
    "def add_right(n, m):\n",
    "    if isinstance(n, int):\n",
    "        return n + m\n",
    "    else:\n",
    "        a, b = n\n",
    "        return a, add_right(b, m)\n",
    "\n",
    "def split_rec(n):\n",
    "    if isinstance(n, int):\n",
    "        if n >= 10:\n",
    "            a = n // 2\n",
    "            return (a, n - a), True\n",
    "    else:\n",
    "        l, r = n\n",
    "        l, reduced = split_rec(l)\n",
    "        if not reduced:\n",
    "            r, reduced = split_rec(r)\n",
    "        if reduced:\n",
    "            return (l, r), True\n",
    "    return n, False\n",
    "\n",
    "def number_magnitude(n):\n",
    "    if isinstance(n, int):\n",
    "        return n\n",
    "    l, r = n\n",
    "    return 3 * number_magnitude(l) + 2 * number_magnitude(r)"
   ]
  },
  {
   "cell_type": "code",
   "execution_count": null,
   "id": "1049610d",
   "metadata": {},
   "outputs": [],
   "source": [
    "def part1(in_file):\n",
    "    with open(in_file, 'r') as f:\n",
    "        numbers = parse_numbers(map(str.strip, f))\n",
    "        numbers = map(reduce_number, numbers)\n",
    "        res = reduce(add_numbers, numbers)\n",
    "    print(res)\n",
    "    m = number_magnitude(res)\n",
    "    print(m)"
   ]
  },
  {
   "cell_type": "code",
   "execution_count": null,
   "id": "25d3bbc8",
   "metadata": {},
   "outputs": [],
   "source": [
    "part1('J18.csv')"
   ]
  },
  {
   "cell_type": "code",
   "execution_count": null,
   "id": "80784f39",
   "metadata": {},
   "outputs": [],
   "source": [
    "def part2(in_file):\n",
    "    with open(in_file, 'r') as f:\n",
    "        numbers = parse_numbers(map(str.strip, f))\n",
    "        numbers = list(map(reduce_number, numbers))\n",
    "    m_max = -np.Inf\n",
    "    for i, n1 in enumerate(numbers):\n",
    "        for j, n2 in enumerate(numbers):\n",
    "            if i == j: continue\n",
    "            m = number_magnitude(add_numbers(n1, n2))\n",
    "            if m > m_max:\n",
    "                m_max = m\n",
    "    print(m_max)"
   ]
  },
  {
   "cell_type": "code",
   "execution_count": null,
   "id": "8220ef64",
   "metadata": {},
   "outputs": [],
   "source": [
    "part2('J18.csv')"
   ]
  },
  {
   "cell_type": "markdown",
   "id": "1b15bd7a",
   "metadata": {},
   "source": [
    "# J19"
   ]
  },
  {
   "cell_type": "code",
   "execution_count": null,
   "id": "835e7725",
   "metadata": {},
   "outputs": [],
   "source": [
    "df = pd.read_csv('J19.csv', sep=',', index_col=None, header=None, names=['x_scan', 'y_scan', 'z_scan'], dtype=str)\n",
    "index_begin_scanner = list(df[df.y_scan.isna()].index)"
   ]
  },
  {
   "cell_type": "code",
   "execution_count": null,
   "id": "95e7955f",
   "metadata": {},
   "outputs": [],
   "source": [
    "from bisect import bisect\n",
    "df['scanner'] = df.index.map(lambda x : bisect(index_begin_scanner, x)-1)\n",
    "df = df[df.y_scan.notna()].reset_index(drop=True)\n",
    "df = df.astype('int32', copy=False)"
   ]
  },
  {
   "cell_type": "code",
   "execution_count": null,
   "id": "be3f7e6b",
   "metadata": {},
   "outputs": [],
   "source": [
    "n_scanners = df.scanner.max()+1\n",
    "n_scanned_beacons = df.shape[0]\n",
    "\n",
    "dict_scanner = {}\n",
    "for i in range(n_scanners):\n",
    "    dict_scanner[i] = df.loc[df.scanner == i, ['x_scan', 'y_scan', 'z_scan']].to_numpy() "
   ]
  },
  {
   "cell_type": "code",
   "execution_count": null,
   "id": "0ba39e13",
   "metadata": {},
   "outputs": [],
   "source": [
    "from collections import defaultdict\n",
    "from itertools import combinations, product\n",
    "\n",
    "# Matrices de rotations\n",
    "rotations = [([2, 0, 1], [-1, -1, 1]), ([0, 1, 2], [1, -1, -1]), ([2, 1, 0], [-1, -1, -1]), ([2, 1, 0], [1, -1, 1]),\n",
    "             ([0, 2, 1], [-1, -1, -1]), ([1, 2, 0], [1, -1, -1]), ([1, 0, 2], [-1, -1, -1]), ([1, 2, 0], [1, 1, 1]),\n",
    "             ([0, 2, 1], [-1, 1, 1]), ([0, 1, 2], [-1, 1, -1]), ([0, 2, 1], [1, -1, 1]), ([2, 0, 1], [-1, 1, -1]),\n",
    "             ([1, 0, 2], [1, 1, -1]), ([2, 1, 0], [1, 1, -1]), ([2, 0, 1], [1, 1, 1]), ([2, 1, 0], [-1, 1, 1]),\n",
    "             ([0, 1, 2], [1, 1, 1]), ([1, 0, 2], [1, -1, 1]), ([1, 0, 2], [-1, 1, 1]), ([0, 1, 2], [-1, -1, 1]),\n",
    "             ([1, 2, 0], [-1, 1, -1]), ([1, 2, 0], [-1, -1, 1]), ([0, 2, 1], [1, 1, -1]), ([2, 0, 1], [1, -1, -1])]\n",
    "\n",
    "\n",
    "def part_1(scanners):\n",
    "    intersects = get_intersections(scanners)\n",
    "    mapping_dict = generate_mappings(intersects, scanners)\n",
    "    beacons = set(tuple(p) for p in scanners[0])\n",
    "    used_mappings = set()\n",
    "    transformed_scanners = {0}\n",
    "    scanner_origins = [[0, 0, 0]]\n",
    "    while len(transformed_scanners) < len(scanners):\n",
    "        queue = [k for k in mapping_dict.keys()\n",
    "                 if k[0] in transformed_scanners and k[1] not in transformed_scanners]\n",
    "        while len(queue) > 0:\n",
    "            el = queue.pop()\n",
    "            if el[1] in transformed_scanners:\n",
    "                continue\n",
    "            p_transpose = list(zip(*scanners[el[1]]))\n",
    "            centroid = list(zip([0, 0, 0]))  # Origine relative du scanner 0, 0, 0\n",
    "            use_mapping = el\n",
    "            while True:\n",
    "                centroid = transform(centroid, *mapping_dict[use_mapping])\n",
    "                p_transpose = transform(p_transpose, *mapping_dict[use_mapping])\n",
    "                new_points = set(tuple(p) for p in zip(*p_transpose))\n",
    "                if use_mapping[0] == 0:\n",
    "                    break\n",
    "                for mapping in used_mappings:\n",
    "                    if mapping[1] == use_mapping[0]:\n",
    "                        use_mapping = mapping\n",
    "                        break\n",
    "            scanner_origins.append([centroid[0][0], centroid[1][0], centroid[2][0]])\n",
    "            transformed_scanners.add(el[1])\n",
    "            beacons.update(new_points)\n",
    "            used_mappings.add(el)\n",
    "    return len(beacons), scanner_origins\n",
    "\n",
    "\n",
    "def part_2(scanner_origins: List):\n",
    "    return max(sum(map(lambda x: abs(x[0] - x[1]), zip(*p))) for p in combinations(scanner_origins, 2))\n",
    "\n",
    "\n",
    "def generate_mappings(intersects, scanners):\n",
    "    mapping_dict = {}\n",
    "    for i in intersects:\n",
    "        p2dist_a = defaultdict(set)\n",
    "        for p in combinations(scanners[i[0]], 2):\n",
    "            dist = euclid_distance(*p)\n",
    "            p2dist_a[tuple(p[0])].add(dist)\n",
    "            p2dist_a[tuple(p[1])].add(dist)\n",
    "        p2dist_b = defaultdict(set)\n",
    "        for p in combinations(scanners[i[1]], 2):\n",
    "            dist = euclid_distance(*p)\n",
    "            p2dist_b[tuple(p[0])].add(dist)\n",
    "            p2dist_b[tuple(p[1])].add(dist)\n",
    "        points_a = []\n",
    "        points_b = []\n",
    "        for p in product(p2dist_a.keys(), p2dist_b.keys()):\n",
    "            intersect = p2dist_a[p[0]].intersection(p2dist_b[p[1]])\n",
    "            if len(intersect) >= 11:  # 12 common beacons 1 src and 11 dst for distance\n",
    "                points_a.append([p[0][0], p[0][1], p[0][2]])\n",
    "                points_b.append([p[1][0], p[1][1], p[1][2]])\n",
    "        mapping_dict[i] = map_scanner_a_to_b(points_a, points_b)\n",
    "    return mapping_dict\n",
    "\n",
    "\n",
    "def map_scanner_a_to_b(points_a, points_b):\n",
    "    a_transpose = list(zip(*points_a))\n",
    "    b_transpose = list(zip(*points_b))\n",
    "    for perms, signs in rotations:\n",
    "        rotated = rotate(b_transpose, perms, signs)\n",
    "        offset = []\n",
    "        for p in zip(rotated, a_transpose):\n",
    "            points = set([x[1] - x[0] for x in zip(p[0], p[1])])\n",
    "            if len(points) == 1:\n",
    "                offset.append(points.pop())\n",
    "            if len(offset) == 3:\n",
    "                return offset, perms, signs\n",
    "    return None\n",
    "\n",
    "\n",
    "def transform(to_transform, target_center, trans_perm, trans_sign):\n",
    "    rotated = rotate(to_transform, trans_perm, trans_sign)\n",
    "    return [list(map(lambda x: target_center[i] + x, p)) for i, p in enumerate(rotated)]\n",
    "\n",
    "\n",
    "def get_intersections(scanners):\n",
    "    intersections = []\n",
    "    distance_dict = {i: set(euclid_distance(*p) for p in combinations(scanners[i], 2)) for i in scanners.keys()}\n",
    "    for i in combinations(range(len(scanners)), 2):\n",
    "        if len(distance_dict[i[0]].intersection(distance_dict[i[1]])) >= 66:  # 12!/10! / 2. Un peu de combinatoire\n",
    "            intersections.append(i)\n",
    "            intersections.append((i[1], i[0]))\n",
    "    return intersections\n",
    "\n",
    "\n",
    "def rotate(point, perms, signs):\n",
    "    return map(lambda n: n * signs[0], point[perms[0]]), \\\n",
    "           map(lambda n: n * signs[1], point[perms[1]]), \\\n",
    "           map(lambda n: n * signs[2], point[perms[2]])\n",
    "\n",
    "\n",
    "def euclid_distance(a, b):\n",
    "    return np.sqrt(sum(map(lambda x: (x[0] - x[1])**2, zip(a, b))))"
   ]
  },
  {
   "cell_type": "code",
   "execution_count": null,
   "id": "5e9bb0ba",
   "metadata": {},
   "outputs": [],
   "source": [
    "part1, scanner_origin = part_1(dict_scanner)\n",
    "part1"
   ]
  },
  {
   "cell_type": "code",
   "execution_count": null,
   "id": "dc91786c",
   "metadata": {},
   "outputs": [],
   "source": [
    "part_2(scanner_origin)"
   ]
  },
  {
   "cell_type": "markdown",
   "id": "e03f3feb",
   "metadata": {},
   "source": [
    "# J20"
   ]
  },
  {
   "cell_type": "code",
   "execution_count": null,
   "id": "bf69aa96",
   "metadata": {},
   "outputs": [],
   "source": [
    "df = pd.read_csv('J20.txt', sep=' ', index_col=None, header=None, names=['x'])\n",
    "algo = [{'.':0, '#':1}[c] for c in df.loc[0,'x']]\n",
    "df = df.loc[1:]\n",
    "df['x'] = df['x'].apply(lambda x:list(x))\n",
    "n_cols = len(df.loc[1,'x'])\n",
    "df = pd.DataFrame(df['x'].to_list(), columns=['x'+str(i) for i in range(n_cols)])\n",
    "for c in df.columns:\n",
    "    df[c] = df[c].map({'.':0, '#':1})\n",
    "df = df.astype('int32', copy=False)\n",
    "matrice = df.to_numpy()"
   ]
  },
  {
   "cell_type": "code",
   "execution_count": null,
   "id": "0ace9e07",
   "metadata": {},
   "outputs": [],
   "source": [
    "def enhance_img(n_runs, mat):\n",
    "    mat_depart = np.pad(mat, ((n_runs+1,n_runs+1),(n_runs+1,n_runs+1)), mode='constant', constant_values=0)\n",
    "\n",
    "    transform_from0 = 1\n",
    "    transform_from1 = 0\n",
    "\n",
    "    mat_courant = mat_depart.copy()\n",
    "\n",
    "    for run in range(n_runs):\n",
    "        if mat_courant[0,0]==0:\n",
    "            mat_evol = np.full(mat_courant.shape, transform_from0, dtype=int)\n",
    "        else:\n",
    "            mat_evol = np.full(mat_courant.shape, transform_from1, dtype=int)\n",
    "\n",
    "        for i in range(1, mat_courant.shape[0]-1): # on exclut les extrèmes\n",
    "            for j in range(1, mat_courant.shape[1]-1):\n",
    "                code = 0\n",
    "                pow2 = 2**8\n",
    "                for idelta in [-1,0,1]:\n",
    "                    for jdelta in [-1,0,1]:\n",
    "                        code += mat_courant[i+idelta, j+jdelta] * pow2\n",
    "                        pow2 = int(pow2/2)\n",
    "                mat_evol[i,j] = algo[code]\n",
    "        mat_courant = mat_evol.copy()\n",
    "    n = np.sum(mat_courant.sum())\n",
    "    return n"
   ]
  },
  {
   "cell_type": "markdown",
   "id": "89ad7372",
   "metadata": {},
   "source": [
    "Part 1"
   ]
  },
  {
   "cell_type": "code",
   "execution_count": null,
   "id": "61b942c3",
   "metadata": {},
   "outputs": [],
   "source": [
    "enhance_img(2, matrice)"
   ]
  },
  {
   "cell_type": "markdown",
   "id": "c6bcbab6",
   "metadata": {},
   "source": [
    "Part 2"
   ]
  },
  {
   "cell_type": "code",
   "execution_count": null,
   "id": "4faf5e01",
   "metadata": {},
   "outputs": [],
   "source": [
    "enhance_img(50, matrice)"
   ]
  },
  {
   "cell_type": "markdown",
   "id": "4f331c3d",
   "metadata": {},
   "source": [
    "# J21"
   ]
  },
  {
   "cell_type": "code",
   "execution_count": null,
   "id": "254fd47e",
   "metadata": {},
   "outputs": [],
   "source": [
    "start_pos_players = [4,9]"
   ]
  },
  {
   "cell_type": "markdown",
   "id": "49e67a56",
   "metadata": {},
   "source": [
    "Part 1"
   ]
  },
  {
   "cell_type": "code",
   "execution_count": null,
   "id": "054ca26a",
   "metadata": {},
   "outputs": [],
   "source": [
    "current_score_players = [0,0]\n",
    "current_pos_players = start_pos_players\n",
    "rolling_dice = 0\n",
    "player = 0\n",
    "\n",
    "while True:\n",
    "    somme = 3 * rolling_dice + (1+2+3)\n",
    "    rolling_dice += 3\n",
    "    current_pos_players[player] += + somme\n",
    "    while (current_pos_players[player]>10):\n",
    "        current_pos_players[player] -= 10\n",
    "    current_score_players[player] += current_pos_players[player]\n",
    "    if (current_score_players[player]>= 1000):\n",
    "        break\n",
    "    player = 1 - player"
   ]
  },
  {
   "cell_type": "code",
   "execution_count": null,
   "id": "7d801778",
   "metadata": {},
   "outputs": [],
   "source": [
    "current_score_players[1-player] * rolling_dice"
   ]
  },
  {
   "cell_type": "markdown",
   "id": "e3437eb7",
   "metadata": {},
   "source": [
    "Part 2"
   ]
  },
  {
   "cell_type": "code",
   "execution_count": null,
   "id": "69537a09",
   "metadata": {},
   "outputs": [],
   "source": [
    "sum_of3dices = {}\n",
    "for i in range(1,4):\n",
    "    for j in range(1,4):\n",
    "        for k in range(1,4):\n",
    "            if (i+j+k) in sum_of3dices:\n",
    "                sum_of3dices[i+j+k] += 1\n",
    "            else:\n",
    "                sum_of3dices[i+j+k] = 1"
   ]
  },
  {
   "cell_type": "code",
   "execution_count": null,
   "id": "03188b57",
   "metadata": {},
   "outputs": [],
   "source": [
    "def dirac_dice(cur_pos1, cur_pos2, cur_score1, cur_score2):\n",
    "    \n",
    "    # retourne le vainqueur\n",
    "    if cur_score1 >= 21: return (1, 0)\n",
    "    if cur_score2 >= 21: return (0, 1)\n",
    "\n",
    "    # Cumul de gains par joueur\n",
    "    p1_wins_total = 0\n",
    "    p2_wins_total = 0\n",
    "\n",
    "    for tirage, nb_univers in sum_of3dices.items():\n",
    "        \n",
    "        cur_pos1_new = (cur_pos1 + tirage) \n",
    "        if cur_pos1_new > 10: cur_pos1_new -= 10 #ici on ne peut pas dépasser 19 à la base\n",
    "        cur_score1_new = cur_score1 + cur_pos1_new\n",
    "\n",
    "        # Tour de l'autre joueur\n",
    "        p2_wins, p1_wins = dirac_dice(cur_pos2, cur_pos1_new, cur_score2, cur_score1_new)\n",
    "\n",
    "        p1_wins_total += p1_wins * nb_univers\n",
    "        p2_wins_total += p2_wins * nb_univers\n",
    "    \n",
    "    return (p1_wins_total, p2_wins_total)\n",
    "\n",
    "max_victories = max(dirac_dice(start_pos_players[0], start_pos_players[1],0,0))\n"
   ]
  },
  {
   "cell_type": "code",
   "execution_count": null,
   "id": "b475a18f",
   "metadata": {},
   "outputs": [],
   "source": [
    "max_victories"
   ]
  },
  {
   "cell_type": "markdown",
   "id": "6bb80013",
   "metadata": {},
   "source": [
    "# J22"
   ]
  },
  {
   "cell_type": "code",
   "execution_count": null,
   "id": "43c19f08",
   "metadata": {},
   "outputs": [],
   "source": [
    "df = pd.read_csv('J22.csv', sep=' ', index_col=None, header=None, names=['action', 'position'])"
   ]
  },
  {
   "cell_type": "code",
   "execution_count": null,
   "id": "960de78c",
   "metadata": {},
   "outputs": [],
   "source": [
    "df[['posx', 'posy', 'posz']] = df.position.str.split(',', expand=True)\n",
    "df.posx = df.posx.str[2:]\n",
    "df.posy = df.posy.str[2:]\n",
    "df.posz = df.posz.str[2:]\n",
    "df[['minx', 'maxx']] = df.posx.str.split('\\.\\.', expand=True).astype('int32', copy=False)\n",
    "df[['miny', 'maxy']] = df.posy.str.split('\\.\\.', expand=True).astype('int32', copy=False)\n",
    "df[['minz', 'maxz']] = df.posz.str.split('\\.\\.', expand=True).astype('int32', copy=False)\n",
    "df = df[['action', 'minx', 'maxx', 'miny', 'maxy', 'minz', 'maxz']]"
   ]
  },
  {
   "cell_type": "markdown",
   "id": "5429df62",
   "metadata": {},
   "source": [
    "Part 1"
   ]
  },
  {
   "cell_type": "code",
   "execution_count": null,
   "id": "390de851",
   "metadata": {},
   "outputs": [],
   "source": [
    "df2 = df.copy()\n",
    "\n",
    "df2.minx = df2.minx.map(lambda x : min(51, max(-51, x)))\n",
    "df2.maxx = df2.maxx.map(lambda x : min(51, max(-51, x)))\n",
    "df2.miny = df2.miny.map(lambda x : min(51, max(-51, x)))\n",
    "df2.maxy = df2.maxy.map(lambda x : min(51, max(-51, x)))\n",
    "df2.minz = df2.minz.map(lambda x : min(51, max(-51, x)))\n",
    "df2.maxz = df2.maxz.map(lambda x : min(51, max(-51, x)))\n"
   ]
  },
  {
   "cell_type": "code",
   "execution_count": null,
   "id": "60c44ce6",
   "metadata": {},
   "outputs": [],
   "source": [
    "cube = np.zeros((101,101,101))"
   ]
  },
  {
   "cell_type": "code",
   "execution_count": null,
   "id": "892a8a8c",
   "metadata": {},
   "outputs": [],
   "source": [
    "for i, row in df2.iterrows():\n",
    "    for x in range(row.minx, row.maxx+1):\n",
    "        for y in range(row.miny, row.maxy+1):\n",
    "            for z in range(row.minz, row.maxz+1):\n",
    "                if (-50 <= x <= 50) & (-50 <= y <= 50) & (-50 <= z <= 50):\n",
    "                    cube[x+50, y+50, z+50] = 1 if row.action =='on' else 0"
   ]
  },
  {
   "cell_type": "code",
   "execution_count": null,
   "id": "6d224b99",
   "metadata": {},
   "outputs": [],
   "source": [
    "cube.sum().sum().sum()"
   ]
  },
  {
   "cell_type": "markdown",
   "id": "9de1620f",
   "metadata": {},
   "source": [
    "Part 2"
   ]
  },
  {
   "cell_type": "code",
   "execution_count": null,
   "id": "d728e475",
   "metadata": {},
   "outputs": [],
   "source": [
    "class Cube:\n",
    "    def __init__(self, minx, maxx, miny, maxy, minz, maxz, statut):\n",
    "        self.minx = minx\n",
    "        self.maxx = maxx\n",
    "        self.miny = miny\n",
    "        self.maxy = maxy\n",
    "        self.minz = minz\n",
    "        self.maxz = maxz\n",
    "        self.statut = statut\n",
    "        self.size = (maxx - minx + 1) * (maxy - miny + 1) * (maxz - minz + 1)\n",
    "    \n",
    "    def __str__(self):\n",
    "        return 'Cube : [' + str(self.minx) + ',' +  str(self.maxx) + '] - [' + str(self.miny) + ',' + str(self.maxy)  + '] - ['  + str(self.minz) + ',' + str(self.maxz) + '], size :' + str(self.size) + ', statut :' + str(self.statut)\n",
    "\n",
    "    def __repr__(self):\n",
    "        return str(self) + '\\n'"
   ]
  },
  {
   "cell_type": "code",
   "execution_count": null,
   "id": "44afe071",
   "metadata": {},
   "outputs": [],
   "source": [
    "list_cubes = []\n",
    "for i, row in df.iterrows():\n",
    "    list_cubes.append(Cube(row.minx, row.maxx, row.miny, row.maxy, row.minz, row.maxz, 1 if row.action == 'on' else 0))"
   ]
  },
  {
   "cell_type": "code",
   "execution_count": null,
   "id": "80ed47d3",
   "metadata": {},
   "outputs": [],
   "source": [
    "def get_intersect(cube1, cube2, statut):\n",
    "    minx = max(cube1.minx, cube2.minx)\n",
    "    miny = max(cube1.miny, cube2.miny)\n",
    "    minz = max(cube1.minz, cube2.minz)\n",
    "    \n",
    "    maxx = min(cube1.maxx, cube2.maxx)\n",
    "    maxy = min(cube1.maxy, cube2.maxy)\n",
    "    maxz = min(cube1.maxz, cube2.maxz)\n",
    "    \n",
    "    if (minx <= maxx) & (miny <= maxy) & (minz <= maxz):\n",
    "        return Cube(minx, maxx, miny, maxy, minz, maxz, statut)\n",
    "    \n",
    "    return None"
   ]
  },
  {
   "cell_type": "code",
   "execution_count": null,
   "id": "754b320d",
   "metadata": {},
   "outputs": [],
   "source": [
    "def get_CubesToIndex(list_cubes, curCube, curIndex):\n",
    "    if (curIndex >= len(list_cubes)):\n",
    "        return 0\n",
    "    if (curCube is None):\n",
    "        return 0\n",
    "    if (curCube.size == 0):\n",
    "        return 0\n",
    "    \n",
    "    count = curCube.size * curCube.statut\n",
    "    for i in range(curIndex):\n",
    "        cube2 = list_cubes[i]\n",
    "        overlap = get_intersect(curCube, cube2, cube2.statut)\n",
    "        count -= get_CubesToIndex(list_cubes, overlap, i)\n",
    "\n",
    "    return count"
   ]
  },
  {
   "cell_type": "code",
   "execution_count": null,
   "id": "b61c2d01",
   "metadata": {},
   "outputs": [],
   "source": [
    "count = 0\n",
    "for i, cube in enumerate(list_cubes):\n",
    "    count += get_CubesToIndex(list_cubes, cube, i);\n",
    "count"
   ]
  },
  {
   "cell_type": "markdown",
   "id": "78a69112",
   "metadata": {},
   "source": [
    "# J23"
   ]
  },
  {
   "cell_type": "code",
   "execution_count": null,
   "id": "aee4d00c",
   "metadata": {},
   "outputs": [],
   "source": [
    "#Test\n",
    "\n",
    "#############\n",
    "#...........#\n",
    "###B#C#B#D###\n",
    "  #A#D#C#A#\n",
    "  #########\n",
    "\n",
    "#state = 'BACDBCDA...........'"
   ]
  },
  {
   "cell_type": "code",
   "execution_count": null,
   "id": "4d66be25",
   "metadata": {},
   "outputs": [],
   "source": [
    "#input\n",
    "\n",
    "#############\n",
    "#...........#\n",
    "###D#D#B#A###\n",
    "  #B#C#A#C#\n",
    "  #########\n",
    "\n",
    "state = 'DBDCBAAC...........'"
   ]
  },
  {
   "cell_type": "code",
   "execution_count": null,
   "id": "042c016c",
   "metadata": {},
   "outputs": [],
   "source": [
    "global_cost = {'A':1, 'B':10, 'C':100, 'D':1000}"
   ]
  },
  {
   "cell_type": "code",
   "execution_count": null,
   "id": "7953aeb8",
   "metadata": {},
   "outputs": [],
   "source": [
    "def swap(text, i, j):\n",
    "    if i > j: i, j = j, i\n",
    "    return text[:i] + text[j] + text[i + 1:j] + text[i] + text[j + 1:]   "
   ]
  },
  {
   "cell_type": "code",
   "execution_count": null,
   "id": "46943a10",
   "metadata": {},
   "outputs": [],
   "source": [
    "def walk(src, dst):\n",
    "    step = -1 if src > dst else 1\n",
    "    return range(src + step, dst + step, step)"
   ]
  },
  {
   "cell_type": "code",
   "execution_count": null,
   "id": "fa7be0e7",
   "metadata": {},
   "outputs": [],
   "source": [
    "def into_hallway(state, door, rsize):\n",
    "    first_door = 4 * rsize + 2\n",
    "    doors = tuple(range(first_door, first_door + 8, 2))\n",
    "\n",
    "    for end in (4 * rsize, len(state) - 1):\n",
    "        for dist, i in enumerate(walk(door, end)):\n",
    "            if state[i] != '.':\n",
    "                break\n",
    "            if i not in doors:\n",
    "                yield dist + 1, i"
   ]
  },
  {
   "cell_type": "code",
   "execution_count": null,
   "id": "48343e56",
   "metadata": {},
   "outputs": [],
   "source": [
    "def steps(state, rsize):\n",
    "    for room, expect in zip(range(0, 4 * rsize, rsize), 'ABCD'):\n",
    "        door = 4 * rsize + 2 * (room // rsize + 1)\n",
    "        for depth, cell in enumerate(state[room:room + rsize]):\n",
    "            if cell != '.':\n",
    "                if cell != expect or any(state[room + d] != expect\n",
    "                                         for d in range(depth + 1, rsize)):\n",
    "                    for door_dist, hall in into_hallway(state, door, rsize):\n",
    "                        yield door_dist + depth + 1, room + depth, hall\n",
    "                break\n",
    "\n",
    "    for hall in range(4 * rsize, len(state)):\n",
    "        apod = state[hall]\n",
    "        if apod != '.':\n",
    "            room = 'ABCD'.index(apod) * rsize\n",
    "            door = 4 * rsize + 2 * (room // rsize + 1)\n",
    "            if all(state[i] == '.' for i in walk(hall, door)):\n",
    "                door_dist = abs(hall - door)\n",
    "                for depth in range(rsize - 1, -1, -1):\n",
    "                    cell = state[room + depth]\n",
    "                    if cell == '.':\n",
    "                        yield door_dist + depth + 1, hall, room + depth\n",
    "                    elif cell != apod:\n",
    "                        break"
   ]
  },
  {
   "cell_type": "code",
   "execution_count": null,
   "id": "bd53dd99",
   "metadata": {},
   "outputs": [],
   "source": [
    "def organize(state, rsize):\n",
    "    work = [(0, state)]\n",
    "    seen = {state: 0}\n",
    "    target = ''.join(x * rsize for x in 'ABCD') + '...........'\n",
    "    while work:\n",
    "        energy, state = heapq.heappop(work)\n",
    "        if state == target:\n",
    "            return energy\n",
    "        for dist, src, dst in steps(state, rsize):\n",
    "            moved = swap(state, src, dst)\n",
    "            moved_energy = energy + dist * global_cost[state[src]]\n",
    "            if seen.get(moved, 1 << 32) > moved_energy:\n",
    "                heapq.heappush(work, (moved_energy, moved))\n",
    "                seen[moved] = moved_energy"
   ]
  },
  {
   "cell_type": "code",
   "execution_count": null,
   "id": "5c09ff3d",
   "metadata": {},
   "outputs": [],
   "source": [
    "organize(state,2)"
   ]
  },
  {
   "cell_type": "markdown",
   "id": "5104a763",
   "metadata": {},
   "source": [
    "Part 2"
   ]
  },
  {
   "cell_type": "code",
   "execution_count": null,
   "id": "f6586a41",
   "metadata": {},
   "outputs": [],
   "source": [
    "def extend(state, insert):\n",
    "    return ''.join(state[2 * i] + ext + state[2 * i + 1]\n",
    "                   for i, ext in enumerate(insert)) + state[8:]"
   ]
  },
  {
   "cell_type": "code",
   "execution_count": null,
   "id": "850ea485",
   "metadata": {},
   "outputs": [],
   "source": [
    "organize(extend(state, ('DD', 'CB', 'BA', 'AC')), 4)"
   ]
  },
  {
   "cell_type": "markdown",
   "id": "8667ba70",
   "metadata": {},
   "source": [
    "# J24"
   ]
  },
  {
   "cell_type": "code",
   "execution_count": null,
   "id": "302112b5",
   "metadata": {},
   "outputs": [],
   "source": [
    "df = pd.read_csv('J24.csv', sep=' ', index_col=None, header=None, names=['instruction', 'a', 'b'])"
   ]
  },
  {
   "cell_type": "markdown",
   "id": "c9384889",
   "metadata": {},
   "source": [
    "Premier test"
   ]
  },
  {
   "cell_type": "code",
   "execution_count": null,
   "id": "c670c759",
   "metadata": {},
   "outputs": [],
   "source": [
    "def compute_instruction(df_loc, values_to_input, var_vals=None):\n",
    "    if var_vals is None:\n",
    "        var_vals = {'w':0, 'x':0, 'y':0, 'z': 0}\n",
    "    n_imputed = 0\n",
    "    for i, row in df_loc.iterrows():\n",
    "        if row.instruction == 'inp':\n",
    "            var_vals[row.a] = values_to_input[n_imputed]\n",
    "            n_imputed += 1\n",
    "        else:\n",
    "            if row.b in var_vals:\n",
    "                b = var_vals[row.b]\n",
    "            else:\n",
    "                b = int(row.b)\n",
    "            if row.instruction == 'add':\n",
    "                var_vals[row.a] += b\n",
    "            if row.instruction == 'mul':\n",
    "                var_vals[row.a] *= b\n",
    "            if row.instruction == 'div':\n",
    "                if b == 0:\n",
    "                    return None\n",
    "                var_vals[row.a] /= b\n",
    "            if row.instruction == 'mod':\n",
    "                if (var_vals[row.a] < 0) | (b <= 0):\n",
    "                    return None\n",
    "                var_vals[row.a] = var_vals[row.a] - b * (var_vals[row.a] // b)\n",
    "            if row.instruction == 'eql':\n",
    "                var_vals[row.a] = 1 if var_vals[row.a] == b else 0\n",
    "    \n",
    "    return var_vals"
   ]
  },
  {
   "cell_type": "code",
   "execution_count": null,
   "id": "b37c8f5c",
   "metadata": {},
   "outputs": [],
   "source": [
    "value_to_test_lst = [9,9,9,9,9,9,9,9,9,9,9,9,9,9]\n",
    "value_to_test = 99999999999999"
   ]
  },
  {
   "cell_type": "markdown",
   "id": "4f577149",
   "metadata": {},
   "source": [
    "Deuxième test"
   ]
  },
  {
   "cell_type": "code",
   "execution_count": null,
   "id": "0dc1668f",
   "metadata": {},
   "outputs": [],
   "source": [
    "input_index = list(df[df.instruction == 'inp'].index)\n",
    "input_index.append(df.shape[0])"
   ]
  },
  {
   "cell_type": "code",
   "execution_count": null,
   "id": "acdbfe10",
   "metadata": {},
   "outputs": [],
   "source": [
    "len(input_index)"
   ]
  },
  {
   "cell_type": "code",
   "execution_count": null,
   "id": "69d543e7",
   "metadata": {},
   "outputs": [],
   "source": [
    "dict_df = {}\n",
    "for i in range(len(input_index)-1):\n",
    "    ind = input_index[i]\n",
    "    ind_next = input_index[i+1]\n",
    "    dict_df[i] = df.loc[ind+1:ind_next-1]"
   ]
  },
  {
   "cell_type": "code",
   "execution_count": null,
   "id": "56be6146",
   "metadata": {},
   "outputs": [],
   "source": [
    "def sign(a):\n",
    "    return 1 if a > 0 else -1 if a < 0 else 0\n",
    "\n",
    "def div(x, y):\n",
    "    return abs(x) // abs(y) * sign(x) * sign(y)\n",
    "\n",
    "def mod(x, y):\n",
    "    return x - div(x, y) * y"
   ]
  },
  {
   "cell_type": "code",
   "execution_count": null,
   "id": "fe7c9ac4",
   "metadata": {},
   "outputs": [],
   "source": [
    "def simplify(df_instructions, w, x, y, z, trace=False):\n",
    "    regs = {\"w\": w, \"x\": x, \"y\": y, \"z\": z}\n",
    "    for i, row in df_instructions.iterrows():\n",
    "        op = row.instruction\n",
    "        left = row.a     \n",
    "        right = row.b if row.b in 'wxyz' else int(row.b)\n",
    "        a = regs[left]\n",
    "        b = right if isinstance(right, int) else regs[right]\n",
    "        if op == \"add\":\n",
    "            if isinstance(a, int) and isinstance(b, int):\n",
    "                regs[left] = a + b\n",
    "            elif b == 0:\n",
    "                regs[left] = a\n",
    "            elif a == 0:\n",
    "                regs[left] = b\n",
    "            else:\n",
    "                regs[left] = (\"add\", a, b)\n",
    "        elif op == \"mul\":\n",
    "            if isinstance(a, int) and isinstance(b, int):\n",
    "                regs[left] = a * b\n",
    "            elif a == 0 or b == 0:\n",
    "                regs[left] = 0\n",
    "            elif a == 1:\n",
    "                regs[left] = b\n",
    "            elif b == 1:\n",
    "                regs[left] = a\n",
    "            else:\n",
    "                regs[left] = (\"mul\", a, b)\n",
    "        elif op == \"div\":\n",
    "            if isinstance(a, int) and isinstance(b, int):\n",
    "                regs[left] = div(a, b)\n",
    "            elif a == 0:\n",
    "                regs[left] = 0\n",
    "            elif b == 1:\n",
    "                regs[left] = a\n",
    "            else:\n",
    "                regs[left] = (\"div\", a, b)\n",
    "        elif op == \"mod\":\n",
    "            if isinstance(a, int) and isinstance(b, int):\n",
    "                regs[left] = mod(a, b)\n",
    "            elif a == 0:\n",
    "                regs[left] = 0\n",
    "            elif b == 1:\n",
    "                regs[left] = 0\n",
    "            else:\n",
    "                regs[left] = (\"mod\", a, b)\n",
    "        elif op == \"eql\":\n",
    "            if isinstance(a, int) and isinstance(b, int):\n",
    "                regs[left] = int(a == b)\n",
    "            elif (\n",
    "                isinstance(b, int)\n",
    "                and (b < 1 or b > 9)\n",
    "                and isinstance(left, str)\n",
    "                and left.startswith(\"w\")\n",
    "            ):\n",
    "                regs[left] = 0\n",
    "            elif (\n",
    "                isinstance(a, int)\n",
    "                and (a < 1 or a > 9)\n",
    "                and isinstance(right, str)\n",
    "                and right.startswith(\"w\")\n",
    "            ):\n",
    "                regs[left] = 0\n",
    "            elif b == 0 and isinstance(a, tuple) and a[0] == \"eql\":\n",
    "                regs[left] = (\"neq\", a[1], a[2])\n",
    "            else:\n",
    "                regs[left] = (\"eql\", a, b)\n",
    "        else:\n",
    "            raise RuntimeError(f\"Invalid {op} {left} {right} {a} {b}\")\n",
    "        if trace:\n",
    "            print((op, left, right, regs))\n",
    "    return regs[\"x\"], regs[\"y\"], regs[\"z\"]\n",
    "\n",
    "\n",
    "def to_string(z):\n",
    "    if isinstance(z, (int, str)):\n",
    "        return str(z)\n",
    "    op, a, b = z\n",
    "    if op == \"neq\":\n",
    "        return f\"({to_string(a)}!={to_string(b)})\"\n",
    "    if op == \"eql\":\n",
    "        return f\"({to_string(a)}=={to_string(b)})\"\n",
    "    if op == \"add\":\n",
    "        if isinstance(b, int) and b < 0:\n",
    "            return f\"({to_string(a)}-{-b})\"\n",
    "        return f\"({to_string(a)}+{to_string(b)})\"\n",
    "    if op == \"mul\":\n",
    "        return f\"{to_string(a)}*{to_string(b)}\"\n",
    "    if op == \"div\":\n",
    "        return f\"({to_string(a)}//{to_string(b)})\"\n",
    "    if op == \"mod\":\n",
    "        return f\"({to_string(a)}%{to_string(b)})\"\n",
    "\n",
    "\n",
    "def z_target(df_instructions):\n",
    "    for i, row in df_instructions.iterrows():\n",
    "        op = row.instruction\n",
    "        a = row.a     \n",
    "        b = row.b if row.b in 'wxyz' else int(row.b)\n",
    "        if op == \"add\" and a == \"x\" and isinstance(b, int):\n",
    "            return -b if b < 0 else None\n",
    "    return None"
   ]
  },
  {
   "cell_type": "code",
   "execution_count": null,
   "id": "61401ca4",
   "metadata": {},
   "outputs": [],
   "source": [
    "states = {}\n",
    "result = {}\n",
    "for w in range(1, 10):\n",
    "    x, y, z = simplify(dict_df[0], w, 0, 0, 0)\n",
    "    result[z] = (w,)\n",
    "print(f\"Step 0 z={min(result)}..{max(result)} {len(result)}\")\n",
    "\n",
    "for index, b in dict_df.items():\n",
    "    if index == 0: continue\n",
    "    prev = result\n",
    "    result = {}\n",
    "    dec = 0\n",
    "    z_targ = z_target(b)\n",
    "    for w in range(9,0,-1): #fort part 1\n",
    "    #for w in range(1, 10): #for part 2\n",
    "        for z in prev:\n",
    "            if z_targ is not None and z % 26 - z_targ != w:\n",
    "                continue\n",
    "            x, y, z1 = simplify(b, w, 0, 0, z)\n",
    "            if z1 not in result:\n",
    "                result[z1] = prev[z] + (w,)\n",
    "                if z1 < z:\n",
    "                    dec += 1\n",
    "    print(to_string(simplify(b, \"w\", \"x\", \"y\", \"z\")[2]))\n",
    "    print(f\"Step {index} z={min(result)}..{max(result)} {len(result)} {dec=}\")\n",
    "\n",
    "\"\".join(str(n) for n in result[0])"
   ]
  },
  {
   "cell_type": "markdown",
   "id": "bbb39f04",
   "metadata": {},
   "source": [
    "# J25"
   ]
  },
  {
   "cell_type": "code",
   "execution_count": 11,
   "id": "c3ccc90a",
   "metadata": {},
   "outputs": [],
   "source": [
    "with open(\"J25.txt\", \"r\", encoding='UTF-8') as file:\n",
    "    input_list_in = [str(line.strip()) for line in file]\n",
    "    w, h = (len(input_list_in[0]), len(input_list_in))"
   ]
  },
  {
   "cell_type": "markdown",
   "id": "c9ea51a0",
   "metadata": {},
   "source": [
    "Part 1"
   ]
  },
  {
   "cell_type": "code",
   "execution_count": 12,
   "id": "26919d54",
   "metadata": {},
   "outputs": [
    {
     "name": "stdout",
     "output_type": "stream",
     "text": [
      "Number of moves: 432\n"
     ]
    }
   ],
   "source": [
    "m = 0\n",
    "finished = False\n",
    "while not finished:\n",
    "    finished = True # assume finished - no fish moved yet\n",
    "\n",
    "    # East swimmers\n",
    "    input_list_new = [] # List of strings after East swims\n",
    "    for s in input_list_in:\n",
    "        if s[w-1] + s[0] == '>.':\n",
    "            s = 'p' + s[1:w-1] + ':' # fill in after other '>.' -> '.>' moves\n",
    "        input_list_new += [s.replace('>.','.>').replace(':','.').replace('p','>')]\n",
    "        if input_list_new[-1] != s: finished = False\n",
    "\n",
    "    # South swimmers\n",
    "    input_list_in = [''.join(i) for i in zip(*input_list_new)] # transpose\n",
    "\n",
    "    input_list_new = [] # List of strings after South swims (transposed)\n",
    "    for s in input_list_in:\n",
    "        if s[h-1] + s[0] == 'v.':\n",
    "            s = 'p' + s[1:h-1] + ':' # fill in after other 'v.' -> '.v' moves\n",
    "        input_list_new += [s.replace('v.','.v').replace(':','.').replace('p','v')]\n",
    "        if input_list_new[-1] != s: finished = False\n",
    "\n",
    "    input_list_in = [''.join(i) for i in zip(*input_list_new)] # transpose again to restore\n",
    "\n",
    "    m += 1\n",
    "    \n",
    "print('Number of moves:', m)"
   ]
  },
  {
   "cell_type": "code",
   "execution_count": null,
   "id": "0669c18e",
   "metadata": {},
   "outputs": [],
   "source": []
  }
 ],
 "metadata": {
  "kernelspec": {
   "display_name": "Python 3",
   "language": "python",
   "name": "python3"
  },
  "language_info": {
   "codemirror_mode": {
    "name": "ipython",
    "version": 3
   },
   "file_extension": ".py",
   "mimetype": "text/x-python",
   "name": "python",
   "nbconvert_exporter": "python",
   "pygments_lexer": "ipython3",
   "version": "3.8.8"
  }
 },
 "nbformat": 4,
 "nbformat_minor": 5
}
